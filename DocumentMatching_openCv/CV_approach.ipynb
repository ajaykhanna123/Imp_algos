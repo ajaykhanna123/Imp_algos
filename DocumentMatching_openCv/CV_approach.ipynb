{
 "cells": [
  {
   "cell_type": "code",
   "execution_count": 28,
   "id": "1ab74587",
   "metadata": {},
   "outputs": [],
   "source": [
    "import fitz\n",
    "\n",
    "pdffile = \"cv1.pdf\"\n",
    "doc = fitz.open(pdffile)\n",
    "\n",
    "for i in range(0,doc.page_count):\n",
    "    page = doc.load_page(i)  # number of page\n",
    "    pix = page.get_pixmap(dpi =)\n",
    "    output = \"cv1_page\"+str(i)+\".png\"\n",
    "    pix.save(output)"
   ]
  },
  {
   "cell_type": "code",
   "execution_count": 13,
   "id": "041c3201",
   "metadata": {},
   "outputs": [],
   "source": [
    "import fitz\n",
    "i=0\n",
    "pdffile = \"cv_doc1_changed.pdf\"\n",
    "doc = fitz.open(pdffile)\n",
    "page = doc.load_page(i)  # number of page\n",
    "pix = page.get_pixmap()\n",
    "output = \"cv1__changed_page\"+str(i)+\".png\"\n",
    "pix.save(output)"
   ]
  },
  {
   "cell_type": "code",
   "execution_count": 26,
   "id": "3d599289",
   "metadata": {},
   "outputs": [
    {
     "name": "stdout",
     "output_type": "stream",
     "text": [
      "images are same\n"
     ]
    }
   ],
   "source": [
    "import cv2\n",
    "import numpy as np\n",
    "image1=cv2.imread('cv1_page0.png')\n",
    "image2=cv2.imread('cv1_page0.png')\n",
    "# image2=cv2.imread('cv1__changed_page0.png')\n",
    "diff=cv2.subtract(image1,image2)\n",
    "result=np.any(diff)\n",
    "if result:\n",
    "    cv2.imwrite(\"result.png\",diff)\n",
    "    print('images are different')\n",
    "else:\n",
    "    print(\"images are same\")"
   ]
  },
  {
   "cell_type": "code",
   "execution_count": 16,
   "id": "1eb6b860",
   "metadata": {},
   "outputs": [
    {
     "data": {
      "text/plain": [
       "True"
      ]
     },
     "execution_count": 16,
     "metadata": {},
     "output_type": "execute_result"
    }
   ],
   "source": []
  },
  {
   "cell_type": "code",
   "execution_count": null,
   "id": "f1de897e",
   "metadata": {},
   "outputs": [],
   "source": []
  }
 ],
 "metadata": {
  "kernelspec": {
   "display_name": "Python 3 (ipykernel)",
   "language": "python",
   "name": "python3"
  },
  "language_info": {
   "codemirror_mode": {
    "name": "ipython",
    "version": 3
   },
   "file_extension": ".py",
   "mimetype": "text/x-python",
   "name": "python",
   "nbconvert_exporter": "python",
   "pygments_lexer": "ipython3",
   "version": "3.9.10"
  }
 },
 "nbformat": 4,
 "nbformat_minor": 5
}
