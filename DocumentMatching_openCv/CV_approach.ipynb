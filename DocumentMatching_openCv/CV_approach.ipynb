{
 "cells": [
  {
   "cell_type": "code",
   "execution_count": 28,
   "id": "1203d11b",
   "metadata": {},
   "outputs": [],
   "source": [
    "import fitz\n",
    "\n",
    "pdffile = \"cv1.pdf\"\n",
    "doc = fitz.open(pdffile)\n",
    "\n",
    "for i in range(0,doc.page_count):\n",
    "    page = doc.load_page(i)  # number of page\n",
    "    pix = page.get_pixmap(dpi =)\n",
    "    output = \"cv1_page\"+str(i)+\".png\"\n",
    "    pix.save(output)"
   ]
  },
  {
   "cell_type": "code",
   "execution_count": 13,
   "id": "66c25222",
   "metadata": {},
   "outputs": [],
   "source": [
    "import fitz\n",
    "i=0\n",
    "pdffile = \"cv_doc1_changed.pdf\"\n",
    "doc = fitz.open(pdffile)\n",
    "page = doc.load_page(i)  # number of page\n",
    "pix = page.get_pixmap()\n",
    "output = \"cv1__changed_page\"+str(i)+\".png\"\n",
    "pix.save(output)"
   ]
  },
  {
   "cell_type": "code",
   "execution_count": 29,
   "id": "52493cf6",
   "metadata": {},
   "outputs": [
    {
     "name": "stdout",
     "output_type": "stream",
     "text": [
      "images are different\n"
     ]
    }
   ],
   "source": [
    "import cv2\n",
    "import numpy as np\n",
    "image1=cv2.imread('cv1_page0.png')\n",
    "# image2=cv2.imread('cv1_page0.png')\n",
    "image2=cv2.imread('cv1__changed_page0.png')\n",
    "diff=cv2.subtract(image1,image2)\n",
    "result=np.any(diff)\n",
    "if result:\n",
    "    cv2.imwrite(\"result.png\",diff)\n",
    "    print('images are different')\n",
    "else:\n",
    "    print(\"images are same\")"
   ]
  },
  {
   "cell_type": "code",
   "execution_count": 30,
   "id": "9f4edd73",
   "metadata": {},
   "outputs": [
    {
     "data": {
      "text/plain": [
       "array([[[0, 0, 0],\n",
       "        [0, 0, 0],\n",
       "        [0, 0, 0],\n",
       "        ...,\n",
       "        [0, 0, 0],\n",
       "        [0, 0, 0],\n",
       "        [0, 0, 0]],\n",
       "\n",
       "       [[0, 0, 0],\n",
       "        [0, 0, 0],\n",
       "        [0, 0, 0],\n",
       "        ...,\n",
       "        [0, 0, 0],\n",
       "        [0, 0, 0],\n",
       "        [0, 0, 0]],\n",
       "\n",
       "       [[0, 0, 0],\n",
       "        [0, 0, 0],\n",
       "        [0, 0, 0],\n",
       "        ...,\n",
       "        [0, 0, 0],\n",
       "        [0, 0, 0],\n",
       "        [0, 0, 0]],\n",
       "\n",
       "       ...,\n",
       "\n",
       "       [[0, 0, 0],\n",
       "        [0, 0, 0],\n",
       "        [0, 0, 0],\n",
       "        ...,\n",
       "        [0, 0, 0],\n",
       "        [0, 0, 0],\n",
       "        [0, 0, 0]],\n",
       "\n",
       "       [[0, 0, 0],\n",
       "        [0, 0, 0],\n",
       "        [0, 0, 0],\n",
       "        ...,\n",
       "        [0, 0, 0],\n",
       "        [0, 0, 0],\n",
       "        [0, 0, 0]],\n",
       "\n",
       "       [[0, 0, 0],\n",
       "        [0, 0, 0],\n",
       "        [0, 0, 0],\n",
       "        ...,\n",
       "        [0, 0, 0],\n",
       "        [0, 0, 0],\n",
       "        [0, 0, 0]]], dtype=uint8)"
      ]
     },
     "execution_count": 30,
     "metadata": {},
     "output_type": "execute_result"
    }
   ],
   "source": [
    "diff"
   ]
  },
  {
   "cell_type": "code",
   "execution_count": null,
   "id": "95644da9",
   "metadata": {},
   "outputs": [],
   "source": []
  }
 ],
 "metadata": {
  "kernelspec": {
   "display_name": "Python 3 (ipykernel)",
   "language": "python",
   "name": "python3"
  },
  "language_info": {
   "codemirror_mode": {
    "name": "ipython",
    "version": 3
   },
   "file_extension": ".py",
   "mimetype": "text/x-python",
   "name": "python",
   "nbconvert_exporter": "python",
   "pygments_lexer": "ipython3",
   "version": "3.9.10"
  }
 },
 "nbformat": 4,
 "nbformat_minor": 5
}
