{
 "cells": [
  {
   "cell_type": "code",
   "execution_count": 2,
   "id": "a3b943bc",
   "metadata": {},
   "outputs": [
    {
     "name": "stdout",
     "output_type": "stream",
     "text": [
      "Requirement already satisfied: pyzbar in /Users/ajay/mambaforge/lib/python3.9/site-packages (0.1.9)\n",
      "Note: you may need to restart the kernel to use updated packages.\n"
     ]
    }
   ],
   "source": [
    "pip install pyzbar"
   ]
  },
  {
   "cell_type": "code",
   "execution_count": 4,
   "id": "6924b228",
   "metadata": {},
   "outputs": [],
   "source": [
    "from pyzbar import pyzbar\n",
    "import argparse\n",
    "import cv2"
   ]
  },
  {
   "cell_type": "code",
   "execution_count": 7,
   "id": "b0fbd31f",
   "metadata": {},
   "outputs": [],
   "source": [
    "image = cv2.imread(\"horn.png\")\n",
    "barcodes = pyzbar.decode(image)"
   ]
  },
  {
   "cell_type": "code",
   "execution_count": 8,
   "id": "51229478",
   "metadata": {},
   "outputs": [
    {
     "data": {
      "text/plain": [
       "[Decoded(data=b'HORN O.K. PLEASE.', type='QRCODE', rect=Rect(left=25, top=25, width=149, height=149), polygon=[Point(x=25, y=25), Point(x=25, y=172), Point(x=174, y=174), Point(x=172, y=25)], quality=1, orientation='UP')]"
      ]
     },
     "execution_count": 8,
     "metadata": {},
     "output_type": "execute_result"
    }
   ],
   "source": [
    "barcodes"
   ]
  },
  {
   "cell_type": "code",
   "execution_count": null,
   "id": "52cafba5",
   "metadata": {},
   "outputs": [
    {
     "name": "stdout",
     "output_type": "stream",
     "text": [
      "[INFO] Found QRCODE barcode: HORN O.K. PLEASE.\n"
     ]
    }
   ],
   "source": [
    "for barcode in barcodes:\n",
    "    # extract the bounding box location of the barcode and draw the\n",
    "    # bounding box surrounding the barcode on the image\n",
    "    (x, y, w, h) = barcode.rect\n",
    "    cv2.rectangle(image, (x, y), (x + w, y + h), (0, 0, 255), 2)\n",
    "    # the barcode data is a bytes object so if we want to draw it on\n",
    "    # our output image we need to convert it to a string first\n",
    "    barcodeData = barcode.data.decode(\"utf-8\")\n",
    "    barcodeType = barcode.type\n",
    "    # draw the barcode data and barcode type on the image\n",
    "    text = \"{} ({})\".format(barcodeData, barcodeType)\n",
    "    cv2.putText(image, text, (x, y - 10), cv2.FONT_HERSHEY_SIMPLEX,\n",
    "        0.5, (0, 0, 255), 2)\n",
    "    # print the barcode type and data to the terminal\n",
    "    print(\"[INFO] Found {} barcode: {}\".format(barcodeType, barcodeData))\n",
    "# show the output image\n",
    "cv2.imshow(\"Image\", image)\n",
    "cv2.waitKey(0)"
   ]
  },
  {
   "cell_type": "code",
   "execution_count": null,
   "id": "51b69131",
   "metadata": {},
   "outputs": [],
   "source": []
  }
 ],
 "metadata": {
  "kernelspec": {
   "display_name": "Python 3 (ipykernel)",
   "language": "python",
   "name": "python3"
  },
  "language_info": {
   "codemirror_mode": {
    "name": "ipython",
    "version": 3
   },
   "file_extension": ".py",
   "mimetype": "text/x-python",
   "name": "python",
   "nbconvert_exporter": "python",
   "pygments_lexer": "ipython3",
   "version": "3.9.10"
  }
 },
 "nbformat": 4,
 "nbformat_minor": 5
}
