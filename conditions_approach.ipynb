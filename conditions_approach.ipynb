{
 "cells": [
  {
   "cell_type": "code",
   "execution_count": null,
   "id": "c3b6bd24",
   "metadata": {},
   "outputs": [],
   "source": [
    "import sys, fitz\n",
    "from docx2pdf import convert\n",
    "from PyPDF2 import PdfFileWriter, PdfFileReader\n",
    "from nltk.tokenize import sent_tokenize"
   ]
  },
  {
   "cell_type": "code",
   "execution_count": null,
   "id": "14c23ed6",
   "metadata": {},
   "outputs": [],
   "source": [
    "# Python3 program to convert docx to pdf\n",
    "# using docx2pdf module\n",
    "\n",
    "# Import the convert method from the\n",
    "# docx2pdf module\n",
    "\n",
    "\n",
    "# Converting docx present in the same folder\n",
    "# as the python file\n",
    "convert(\"test.docx\")\n",
    "\n"
   ]
  },
  {
   "cell_type": "code",
   "execution_count": null,
   "id": "c70d206b",
   "metadata": {},
   "outputs": [],
   "source": []
  },
  {
   "cell_type": "code",
   "execution_count": 15,
   "id": "13f234ed",
   "metadata": {},
   "outputs": [
    {
     "name": "stdout",
     "output_type": "stream",
     "text": [
      "Footer passed-> Inserting Headers and Footers  \n",
      "To insert a header or footer, first go to the Insert tab and select the desired option. page number -> 1\n",
      "Footer passed-> You can type here   \n",
      "Design tab page number -> 2\n",
      "Footer passed-> Centered header page number -> 3\n",
      "Footer passed-> In this example, the section  \n",
      "break would be placed at the  \n",
      "bottom of this page, since that is  \n",
      "where the cursor has been  \n",
      "placed. page number -> 4\n",
      "Footer passed-> This allows you to have different headers in different sections. page number -> 5\n"
     ]
    }
   ],
   "source": [
    "import sys, fitz\n",
    "import re\n",
    "from docx2pdf import convert\n",
    "from PyPDF2 import PdfFileWriter, PdfFileReader\n",
    "from nltk.tokenize import sent_tokenize\n",
    "\n",
    "footers=[\"SPSCC Student Computing Center__Headers and Footers __1\",\n",
    "         \"SPSCC Student Computing Center__Headers and Footers __2\",\n",
    "        \"SPSCC Student Computing Center__Headers and Footers __3\",\n",
    "        \"SPSCC Student Computing Center__Headers and Footers __4\",\n",
    "        \"SPSCC Student Computing Center__Headers and Footers __5\"]\n",
    "\n",
    "def split_pages(file,file_type=None):\n",
    "    if file_type=='virtual'.strip():\n",
    "        file_postfix=\"_virtual_proof.pdf\"\n",
    "    else:\n",
    "        file_postfix=\"_ods_proof.pdf\"\n",
    "    inputpdf = PdfFileReader(open(file, \"rb\"))\n",
    "    pdfs=[]\n",
    "    for i in range(inputpdf.numPages):\n",
    "        output = PdfFileWriter()\n",
    "        output.addPage(inputpdf.getPage(i))\n",
    "        with open(f\"{i}{file_postfix}\", \"wb\") as outputStream:\n",
    "            output.write(outputStream)\n",
    "            pdfs.append(f\"{i}{file_postfix}\")\n",
    "    return pdfs\n",
    "\n",
    "ods_pages_pdfs=split_pages(\"test.pdf\",\"ods\")\n",
    "virtual_pages_pdfs=split_pages(\"test.pdf\",\"virtual\")\n",
    "\n",
    "array_virtual_proof_footer_lines=[]\n",
    "for virtual_pdf in virtual_pages_pdfs:\n",
    "    \n",
    "    fname = virtual_pdf  # get document filename\n",
    "    doc = fitz.open(fname)  # open document\n",
    "    text=b\"\"\n",
    "    for page in doc:  # iterate the document pages\n",
    "        text += page.get_text().encode(\"utf8\")  # get plain text (is in UTF-8)\n",
    "\n",
    "    data=text.decode('utf-8')\n",
    "    \n",
    "    for footer in footers:\n",
    "        if footer in data:\n",
    "            data=re.sub(footer,\"\",data)\n",
    "            last_line_of_page=sent_tokenize(data)[-1]\n",
    "            array_virtual_proof_footer_lines.append([footer,last_line_of_page])\n",
    "            \n",
    "\n",
    "array_ods_proof_footer_lines=[]\n",
    "for ods_pdf in ods_pages_pdfs:\n",
    "    \n",
    "    fname = ods_pdf  # get document filename\n",
    "    doc = fitz.open(fname)  # open document\n",
    "    text=b\"\"\n",
    "    for page in doc:  # iterate the document pages\n",
    "        text += page.get_text().encode(\"utf8\")  # get plain text (is in UTF-8)\n",
    "\n",
    "    data=text.decode('utf-8')\n",
    "    \n",
    "    \n",
    "    for footer in footers:\n",
    "        if footer in data:\n",
    "            data=re.sub(footer,\"\",data)\n",
    "            last_line_of_page=sent_tokenize(data)[-1]\n",
    "            array_ods_proof_footer_lines.append([footer,last_line_of_page])\n",
    "            \n",
    "            \n",
    "\n",
    "if len(array_virtual_proof_footer_lines)>len(array_ods_proof_footer_lines):\n",
    "    iteration_array1=array_virtual_proof_footer_lines\n",
    "    iteration_array2=array_ods_proof_footer_lines\n",
    "else:\n",
    "    iteration_array1=array_ods_proof_footer_lines\n",
    "    iteration_array2=array_virtual_proof_footer_lines\n",
    "footer_index_array2=0\n",
    "footer_index_array1=0\n",
    "while footer_index_array2<len(iteration_array2) and footer_index_array1<len(iteration_array1)-1:\n",
    "    \n",
    "    if iteration_array2[footer_index_array2][0]==iteration_array1[footer_index_array1][0]:\n",
    "        if iteration_array2[footer_index_array2][1]==iteration_array1[footer_index_array1][1]:\n",
    "            print(\"Footer passed->\",iteration_array2[footer_index_array2][1],\"page number ->\",footer_index_array1+1)\n",
    "            \n",
    "            \n",
    "        else:\n",
    "            print(\"Page shrink exists for footer ->\",iteration_array2[footer_index_array2][1],\"page number->\",footer_index_array1+1)\n",
    "    else:\n",
    "        print(\"Footer mismatch->\",iteration_array2[footer_index_array2][1],\"page number ->\",footer_index_array1+1)\n",
    "    \n",
    "    if iteration_array2[footer_index_array2][0]!=iteration_array1[footer_index_array1+1][0]:\n",
    "        \n",
    "        footer_index_array2+=1\n",
    "    footer_index_array1+=1\n",
    "if footer_index_array1<len(iteration_array1) and footer_index_array2<len(iteration_array2):\n",
    "    if iteration_array2[footer_index_array2][0]==iteration_array1[footer_index_array1][0]:\n",
    "        if iteration_array2[footer_index_array2][1]==iteration_array1[footer_index_array1][1]:\n",
    "            print(\"Footer passed->\",iteration_array2[footer_index_array2][1],\"page number ->\",footer_index_array1+1)\n",
    "            \n",
    "            \n",
    "        else:\n",
    "            print(\"Page shrink exists for footer ->\",iteration_array2[footer_index_array2][1],\"page number->\",footer_index_array1+1)\n",
    "    else:\n",
    "        print(\"Footer mismatch->\",iteration_array2[footer_index_array2][1],\"page number ->\",footer_index_array1+1)\n",
    "    \n",
    "    "
   ]
  },
  {
   "cell_type": "code",
   "execution_count": null,
   "id": "b87b12e6",
   "metadata": {},
   "outputs": [],
   "source": []
  },
  {
   "cell_type": "code",
   "execution_count": null,
   "id": "246f5f41",
   "metadata": {},
   "outputs": [],
   "source": []
  },
  {
   "cell_type": "code",
   "execution_count": null,
   "id": "cb0ce39d",
   "metadata": {},
   "outputs": [],
   "source": []
  },
  {
   "cell_type": "code",
   "execution_count": null,
   "id": "5cb4d0d2",
   "metadata": {},
   "outputs": [],
   "source": []
  },
  {
   "cell_type": "code",
   "execution_count": null,
   "id": "5bd489f1",
   "metadata": {},
   "outputs": [],
   "source": []
  },
  {
   "cell_type": "code",
   "execution_count": null,
   "id": "86afbba6",
   "metadata": {},
   "outputs": [],
   "source": []
  },
  {
   "cell_type": "code",
   "execution_count": null,
   "id": "fe835f5d",
   "metadata": {},
   "outputs": [],
   "source": []
  },
  {
   "cell_type": "code",
   "execution_count": null,
   "id": "8a5831c9",
   "metadata": {},
   "outputs": [],
   "source": []
  },
  {
   "cell_type": "code",
   "execution_count": null,
   "id": "328cf752",
   "metadata": {},
   "outputs": [],
   "source": []
  },
  {
   "cell_type": "code",
   "execution_count": null,
   "id": "3d1db89d",
   "metadata": {},
   "outputs": [],
   "source": []
  },
  {
   "cell_type": "code",
   "execution_count": null,
   "id": "019eb00d",
   "metadata": {},
   "outputs": [],
   "source": []
  },
  {
   "cell_type": "code",
   "execution_count": null,
   "id": "a0ade89f",
   "metadata": {},
   "outputs": [],
   "source": []
  },
  {
   "cell_type": "code",
   "execution_count": null,
   "id": "5a06d4b7",
   "metadata": {},
   "outputs": [],
   "source": [
    "\n"
   ]
  },
  {
   "cell_type": "code",
   "execution_count": null,
   "id": "750b3026",
   "metadata": {},
   "outputs": [],
   "source": []
  },
  {
   "cell_type": "code",
   "execution_count": null,
   "id": "7e1e557e",
   "metadata": {},
   "outputs": [],
   "source": []
  }
 ],
 "metadata": {
  "kernelspec": {
   "display_name": "Python 3 (ipykernel)",
   "language": "python",
   "name": "python3"
  },
  "language_info": {
   "codemirror_mode": {
    "name": "ipython",
    "version": 3
   },
   "file_extension": ".py",
   "mimetype": "text/x-python",
   "name": "python",
   "nbconvert_exporter": "python",
   "pygments_lexer": "ipython3",
   "version": "3.9.10"
  }
 },
 "nbformat": 4,
 "nbformat_minor": 5
}
