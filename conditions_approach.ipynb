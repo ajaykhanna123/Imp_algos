{
 "cells": [
  {
   "cell_type": "code",
   "execution_count": 70,
   "id": "389567a3",
   "metadata": {},
   "outputs": [],
   "source": [
    "import sys, fitz\n",
    "from docx2pdf import convert\n",
    "from PyPDF2 import PdfFileWriter, PdfFileReader\n",
    "from nltk.tokenize import sent_tokenize"
   ]
  },
  {
   "cell_type": "code",
   "execution_count": 18,
   "id": "96e30575",
   "metadata": {},
   "outputs": [
    {
     "data": {
      "application/vnd.jupyter.widget-view+json": {
       "model_id": "728821ee62554a888ec3844374048663",
       "version_major": 2,
       "version_minor": 0
      },
      "text/plain": [
       "  0%|          | 0/1 [00:00<?, ?it/s]"
      ]
     },
     "metadata": {},
     "output_type": "display_data"
    }
   ],
   "source": [
    "# Python3 program to convert docx to pdf\n",
    "# using docx2pdf module\n",
    "\n",
    "# Import the convert method from the\n",
    "# docx2pdf module\n",
    "\n",
    "\n",
    "# Converting docx present in the same folder\n",
    "# as the python file\n",
    "convert(\"test.docx\")\n",
    "\n"
   ]
  },
  {
   "cell_type": "code",
   "execution_count": 2,
   "id": "10a0ed91",
   "metadata": {},
   "outputs": [],
   "source": [
    "footers=[\"SPSCC Student Computing Center__Headers and Footers __1\",\n",
    "         \"SPSCC Student Computing Center__Headers and Footers __2\",\n",
    "        \"SPSCC Student Computing Center__Headers and Footers __3\",\n",
    "        \"SPSCC Student Computing Center__Headers and Footers __4\",\n",
    "        \"SPSCC Student Computing Center__Headers and Footers __5\"]"
   ]
  },
  {
   "cell_type": "code",
   "execution_count": 71,
   "id": "6f084644",
   "metadata": {},
   "outputs": [],
   "source": [
    "\n",
    "\n",
    "inputpdf = PdfFileReader(open(\"test.pdf\", \"rb\"))\n",
    "virtual_pdfs=[]\n",
    "for i in range(inputpdf.numPages):\n",
    "    output = PdfFileWriter()\n",
    "    output.addPage(inputpdf.getPage(i))\n",
    "    with open(f\"{i}_virtual_proof.pdf\", \"wb\") as outputStream:\n",
    "        output.write(outputStream)\n",
    "        virtual_pdfs.append(f\"{i}_virtual_proof.pdf\")\n",
    "        "
   ]
  },
  {
   "cell_type": "code",
   "execution_count": 44,
   "id": "4bcbd9e6",
   "metadata": {},
   "outputs": [
    {
     "data": {
      "text/plain": [
       "['0_virtual_proof.pdf',\n",
       " '1_virtual_proof.pdf',\n",
       " '2_virtual_proof.pdf',\n",
       " '3_virtual_proof.pdf',\n",
       " '4_virtual_proof.pdf']"
      ]
     },
     "execution_count": 44,
     "metadata": {},
     "output_type": "execute_result"
    }
   ],
   "source": []
  },
  {
   "cell_type": "code",
   "execution_count": 30,
   "id": "d6e89c34",
   "metadata": {},
   "outputs": [],
   "source": []
  },
  {
   "cell_type": "code",
   "execution_count": 45,
   "id": "54833c09",
   "metadata": {},
   "outputs": [],
   "source": [
    "dict_virtual_proof_footer_lines={}\n",
    "for virtual_pdf in virtual_pdfs:\n",
    "    \n",
    "    fname = virtual_pdf  # get document filename\n",
    "    doc = fitz.open(fname)  # open document\n",
    "    text=b\"\"\n",
    "    for page in doc:  # iterate the document pages\n",
    "        text += page.get_text().encode(\"utf8\")  # get plain text (is in UTF-8)\n",
    "\n",
    "        data=text.decode('utf-8')\n",
    "        fo\n",
    "        last_line=sent_tokenize(data)[-1].split(\"\\n\")[-1]\n",
    "        dict_virtual_proof_footer_lines[]"
   ]
  },
  {
   "cell_type": "code",
   "execution_count": null,
   "id": "4796a390",
   "metadata": {},
   "outputs": [],
   "source": []
  },
  {
   "cell_type": "code",
   "execution_count": null,
   "id": "c5c37fa0",
   "metadata": {},
   "outputs": [],
   "source": []
  },
  {
   "cell_type": "code",
   "execution_count": null,
   "id": "1b6f5183",
   "metadata": {},
   "outputs": [],
   "source": []
  },
  {
   "cell_type": "code",
   "execution_count": null,
   "id": "73f00502",
   "metadata": {},
   "outputs": [],
   "source": []
  }
 ],
 "metadata": {
  "kernelspec": {
   "display_name": "Python 3 (ipykernel)",
   "language": "python",
   "name": "python3"
  },
  "language_info": {
   "codemirror_mode": {
    "name": "ipython",
    "version": 3
   },
   "file_extension": ".py",
   "mimetype": "text/x-python",
   "name": "python",
   "nbconvert_exporter": "python",
   "pygments_lexer": "ipython3",
   "version": "3.9.10"
  }
 },
 "nbformat": 4,
 "nbformat_minor": 5
}
