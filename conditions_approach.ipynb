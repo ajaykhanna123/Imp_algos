{
 "cells": [
  {
   "cell_type": "code",
   "execution_count": null,
   "id": "06f5cefd",
   "metadata": {},
   "outputs": [],
   "source": [
    "import sys, fitz\n",
    "from docx2pdf import convert\n",
    "from PyPDF2 import PdfFileWriter, PdfFileReader\n",
    "from nltk.tokenize import sent_tokenize"
   ]
  },
  {
   "cell_type": "code",
   "execution_count": null,
   "id": "53d05ed1",
   "metadata": {},
   "outputs": [],
   "source": [
    "# Python3 program to convert docx to pdf\n",
    "# using docx2pdf module\n",
    "\n",
    "# Import the convert method from the\n",
    "# docx2pdf module\n",
    "\n",
    "\n",
    "# Converting docx present in the same folder\n",
    "# as the python file\n",
    "convert(\"test.docx\")\n",
    "\n"
   ]
  },
  {
   "cell_type": "code",
   "execution_count": null,
   "id": "f0fafe6c",
   "metadata": {},
   "outputs": [],
   "source": []
  },
  {
   "cell_type": "code",
   "execution_count": 47,
   "id": "9be07ece",
   "metadata": {},
   "outputs": [
    {
     "name": "stdout",
     "output_type": "stream",
     "text": [
      "Footer passed-> page number -> 1\n",
      "Footer passed-> page number -> 2\n",
      "Footer passed-> page number -> 3\n",
      "Footer passed-> page number -> 4\n",
      "Footer passed-> page number -> 5\n",
      "Total iterations for checking footers 5\n"
     ]
    }
   ],
   "source": [
    "import sys, fitz\n",
    "import re\n",
    "from docx2pdf import convert\n",
    "from PyPDF2 import PdfFileWriter, PdfFileReader\n",
    "from nltk.tokenize import sent_tokenize\n",
    "\n",
    "footers=[\"SPSCC Student Computing Center__Headers and Footers __1\",\n",
    "         \"SPSCC Student Computing Center__Headers and Footers __2\",\n",
    "        \"SPSCC Student Computing Center__Headers and Footers __3\",\n",
    "        \"SPSCC Student Computing Center__Headers and Footers __4\",\n",
    "        \"SPSCC Student Computing Center__Headers and Footers __5\"]\n",
    "\n",
    "def split_pages(file,file_type=None):\n",
    "    if file_type=='virtual'.strip():\n",
    "        file_postfix=\"_virtual_proof.pdf\"\n",
    "    else:\n",
    "        file_postfix=\"_ods_proof.pdf\"\n",
    "    inputpdf = PdfFileReader(open(file, \"rb\"))\n",
    "    pdfs=[]\n",
    "    for i in range(inputpdf.numPages):\n",
    "        output = PdfFileWriter()\n",
    "        output.addPage(inputpdf.getPage(i))\n",
    "        with open(f\"{i}{file_postfix}\", \"wb\") as outputStream:\n",
    "            output.write(outputStream)\n",
    "            pdfs.append(f\"{i}{file_postfix}\")\n",
    "    return pdfs\n",
    "\n",
    "ods_pages_pdfs=split_pages(\"test.pdf\",\"ods\")\n",
    "virtual_pages_pdfs=split_pages(\"test.pdf\",\"virtual\")\n",
    "\n",
    "array_virtual_proof_footer_lines=[]\n",
    "for virtual_pdf in virtual_pages_pdfs:\n",
    "    \n",
    "    fname = virtual_pdf  # get document filename\n",
    "    doc = fitz.open(fname)  # open document\n",
    "    text=b\"\"\n",
    "    for page in doc:  # iterate the document pages\n",
    "        text += page.get_text().encode(\"utf8\")  # get plain text (is in UTF-8)\n",
    "\n",
    "    data=text.decode('utf-8')\n",
    "    \n",
    "    for footer in footers:\n",
    "        if footer in data:\n",
    "            data=re.sub(footer,\"\",data)\n",
    "            last_line_of_page=sent_tokenize(data)[-1]\n",
    "            array_virtual_proof_footer_lines.append([footer,last_line_of_page])\n",
    "            \n",
    "\n",
    "array_ods_proof_footer_lines=[]\n",
    "for ods_pdf in ods_pages_pdfs:\n",
    "    \n",
    "    fname = ods_pdf  # get document filename\n",
    "    doc = fitz.open(fname)  # open document\n",
    "    text=b\"\"\n",
    "    for page in doc:  # iterate the document pages\n",
    "        text += page.get_text().encode(\"utf8\")  # get plain text (is in UTF-8)\n",
    "\n",
    "    data=text.decode('utf-8')\n",
    "    \n",
    "    \n",
    "    for footer in footers:\n",
    "        if footer in data:\n",
    "            data=re.sub(footer,\"\",data)\n",
    "            last_line_of_page=sent_tokenize(data)[-1]\n",
    "            array_ods_proof_footer_lines.append([footer,last_line_of_page])\n",
    "            \n",
    "            \n",
    "\n",
    "if len(array_virtual_proof_footer_lines)>len(array_ods_proof_footer_lines):\n",
    "    iteration_array1=array_virtual_proof_footer_lines\n",
    "    iteration_array2=array_ods_proof_footer_lines\n",
    "else:\n",
    "    iteration_array1=array_ods_proof_footer_lines\n",
    "    iteration_array2=array_virtual_proof_footer_lines\n",
    "footer_index_array2=0\n",
    "footer_index_array1=0\n",
    "total_iterations=0\n",
    "#Time complexity of this algorithm is O(n) where n = footer_index_array1\n",
    "while footer_index_array2<len(iteration_array2) and footer_index_array1<len(iteration_array1)-1:\n",
    "    \n",
    "    if iteration_array2[footer_index_array2][0]==iteration_array1[footer_index_array1][0]:\n",
    "        if iteration_array2[footer_index_array2][1]==iteration_array1[footer_index_array1][1]:\n",
    "            print(\"Footer passed->\",\"page number ->\",footer_index_array1+1)\n",
    "            \n",
    "            \n",
    "        else:\n",
    "            print(\"Page shrink exists for footer ->\",\"page number->\",footer_index_array1+1)\n",
    "    else:\n",
    "        print(\"Footer mismatch->\",\"page number ->\",footer_index_array1+1)\n",
    "    \n",
    "    if iteration_array2[footer_index_array2][0]!=iteration_array1[footer_index_array1+1][0]:\n",
    "        \n",
    "        footer_index_array2+=1\n",
    "    footer_index_array1+=1\n",
    "    total_iterations+=1\n",
    "\n",
    "if footer_index_array1<len(iteration_array1) and footer_index_array2<len(iteration_array2):\n",
    "    if iteration_array2[footer_index_array2][0]==iteration_array1[footer_index_array1][0]:\n",
    "        if iteration_array2[footer_index_array2][1]==iteration_array1[footer_index_array1][1]:\n",
    "            print(\"Footer passed->\",\"page number ->\",footer_index_array1+1)\n",
    "            \n",
    "            \n",
    "        else:\n",
    "            print(\"Page shrink exists for footer ->\",\"page number->\",footer_index_array1+1)\n",
    "    else:\n",
    "        print(\"Footer mismatch->\",\"page number ->\",footer_index_array1+1)\n",
    "    total_iterations+=1\n",
    "    \n",
    "\n",
    "if footer_index_array1!=footer_index_array2:\n",
    "    print(\"Footer mismatch\",iteration_array1[footer_index_array1][0])\n",
    "print(\"Total iterations for checking footers\",total_iterations)"
   ]
  },
  {
   "cell_type": "code",
   "execution_count": 44,
   "id": "aef328bf",
   "metadata": {},
   "outputs": [],
   "source": [
    "array_virtual_proof_footer_lines=[['SPSCC Student Computing Center__Headers and Footers __1',\n",
    "  'and select the desired option.'],['SPSCC Student Computing Center__Headers and Footers __2',\n",
    "  'Inserting Headers and Footers  \\nTo insert a header or footer, first go to the Insert tab and select the desired option.'],\n",
    " ['SPSCC Student Computing Center__Headers and Footers __2',\n",
    "  'You can type here   \\nDesign tab'],\n",
    " ['SPSCC Student Computing Center__Headers and Footers __3',\n",
    "  'Centered header'],\n",
    " ['SPSCC Student Computing Center__Headers and Footers __4',\n",
    "  'In this example, the section  \\nbreak would be placed at the  \\nbottom of this page, since that is  \\nwhere the cursor has been  \\nplaced.'],\n",
    " ['SPSCC Student Computing Center__Headers and Footers __5',\n",
    "  'This allows you to have .']]"
   ]
  },
  {
   "cell_type": "code",
   "execution_count": 46,
   "id": "e9a9aaf5",
   "metadata": {},
   "outputs": [
    {
     "name": "stdout",
     "output_type": "stream",
     "text": [
      "Page shrink exists for footer -> page number-> 1\n",
      "Page shrink exists for footer -> page number-> 2\n",
      "Footer passed-> page number -> 3\n",
      "Footer passed-> page number -> 4\n",
      "Footer passed-> page number -> 5\n",
      "Page shrink exists for footer -> page number-> 6\n",
      "Footer mismatch SPSCC Student Computing Center__Headers and Footers __5\n",
      "Total iterations for checking footers 6\n"
     ]
    }
   ],
   "source": []
  },
  {
   "cell_type": "code",
   "execution_count": null,
   "id": "07667d15",
   "metadata": {},
   "outputs": [],
   "source": []
  },
  {
   "cell_type": "code",
   "execution_count": null,
   "id": "a790176d",
   "metadata": {},
   "outputs": [],
   "source": []
  },
  {
   "cell_type": "code",
   "execution_count": null,
   "id": "517002fc",
   "metadata": {},
   "outputs": [],
   "source": []
  },
  {
   "cell_type": "code",
   "execution_count": null,
   "id": "7a9ea115",
   "metadata": {},
   "outputs": [],
   "source": []
  },
  {
   "cell_type": "code",
   "execution_count": null,
   "id": "60a7bd8c",
   "metadata": {},
   "outputs": [],
   "source": []
  },
  {
   "cell_type": "code",
   "execution_count": null,
   "id": "90a53efd",
   "metadata": {},
   "outputs": [],
   "source": []
  },
  {
   "cell_type": "code",
   "execution_count": null,
   "id": "8770a749",
   "metadata": {},
   "outputs": [],
   "source": []
  },
  {
   "cell_type": "code",
   "execution_count": null,
   "id": "e7fedc3e",
   "metadata": {},
   "outputs": [],
   "source": []
  },
  {
   "cell_type": "code",
   "execution_count": null,
   "id": "a666f593",
   "metadata": {},
   "outputs": [],
   "source": []
  },
  {
   "cell_type": "code",
   "execution_count": null,
   "id": "71e24135",
   "metadata": {},
   "outputs": [],
   "source": []
  },
  {
   "cell_type": "code",
   "execution_count": null,
   "id": "c8761d5e",
   "metadata": {},
   "outputs": [],
   "source": []
  },
  {
   "cell_type": "code",
   "execution_count": null,
   "id": "211fdf8e",
   "metadata": {},
   "outputs": [],
   "source": [
    "\n"
   ]
  },
  {
   "cell_type": "code",
   "execution_count": null,
   "id": "47b21d1f",
   "metadata": {},
   "outputs": [],
   "source": []
  },
  {
   "cell_type": "code",
   "execution_count": null,
   "id": "51417b11",
   "metadata": {},
   "outputs": [],
   "source": []
  }
 ],
 "metadata": {
  "kernelspec": {
   "display_name": "Python 3 (ipykernel)",
   "language": "python",
   "name": "python3"
  },
  "language_info": {
   "codemirror_mode": {
    "name": "ipython",
    "version": 3
   },
   "file_extension": ".py",
   "mimetype": "text/x-python",
   "name": "python",
   "nbconvert_exporter": "python",
   "pygments_lexer": "ipython3",
   "version": "3.9.10"
  }
 },
 "nbformat": 4,
 "nbformat_minor": 5
}
