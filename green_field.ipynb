{
 "cells": [
  {
   "cell_type": "code",
   "execution_count": 24,
   "id": "0dea0876",
   "metadata": {},
   "outputs": [],
   "source": [
    "# pip install datefinder"
   ]
  },
  {
   "cell_type": "code",
   "execution_count": 38,
   "id": "f9b00977",
   "metadata": {},
   "outputs": [
    {
     "name": "stdout",
     "output_type": "stream",
     "text": [
      "29 June,2022 2022\n"
     ]
    }
   ],
   "source": []
  },
  {
   "cell_type": "code",
   "execution_count": 59,
   "id": "d7bc8157",
   "metadata": {},
   "outputs": [],
   "source": []
  },
  {
   "cell_type": "code",
   "execution_count": 72,
   "id": "9a2769d8",
   "metadata": {},
   "outputs": [
    {
     "name": "stdout",
     "output_type": "stream",
     "text": [
      "29 June,2022 2022\n",
      "return date is , 20 September,2022\n"
     ]
    }
   ],
   "source": [
    "\n",
    "import re\n",
    "import datefinder\n",
    "from datetime import datetime\n",
    "data=\"\\nP.O 123445,pitrr dd 15222-0330\\n done \\n 29 june,2022\\n\"\n",
    "dates_possiblities=re.findall('[\\n\\t]+\\s*[A-Za-z0-9]+.*?\\d+\\s*\\n',data)\n",
    "date=\"\"\n",
    "for date_p in dates_possiblities:\n",
    "    date_re=re.search('\\d{4}-\\d{2}-\\d{2}|\\d{2}/\\d{2}/\\d{4}|[A-Za-z]{3,12}\\s*\\d{1,2}\\s*[-,]\\s*\\d{4}|\\d{1,2}\\s*[A-Za-z]{3,12}\\s*[-,]\\s*\\d{4}',date_p)\n",
    "    if date_re:\n",
    "        date=date_re.group()\n",
    "if date!='':\n",
    "    datetime_date=list(datefinder.find_dates(date))\n",
    "    current_year=datetime_date[0].year\n",
    "    date=datetime.strftime(datetime_date[0], '%d %B,%Y')\n",
    "    print(date,current_year)\n",
    "\n",
    "\n",
    "template_input=\"\"\"You can also call us at [CustomerCareNumber],[CustomerCareHours],to provide us with the information by [ReturnMailDate].TTY users should \n",
    "call [CustomerCareTTY]. If you don't contact [PlanName] by [ReturnMailDate], we will assume the above information\n",
    "is correct and you will owe a late Enrollment Penalty (LEP).\n",
    "\n",
    "Sincerly,\n",
    "\n",
    "\"\"\"\n",
    "\n",
    "proof_input=\"\"\"You can also call us at [CustomerCareNumber],[CustomerCareHours],to provide us with the information by [ReturnMailDate].TTY users should \n",
    "call [CustomerCareTTY]. If you don't contact EDWP by 20 sept,2022 , we will assume the above information\n",
    "is correct and you will owe a late Enrollment Penalty (LEP).\n",
    "\n",
    "Sincerly,\n",
    "\n",
    "\"\"\"\n",
    "import math\n",
    "WORD = re.compile(r\"\\w+\")\n",
    "\n",
    "\n",
    "def get_cosine(vec1, vec2):\n",
    "    intersection = set(vec1.keys()) & set(vec2.keys())\n",
    "    numerator = sum([vec1[x] * vec2[x] for x in intersection])\n",
    "\n",
    "    sum1 = sum([vec1[x] ** 2 for x in list(vec1.keys())])\n",
    "    sum2 = sum([vec2[x] ** 2 for x in list(vec2.keys())])\n",
    "    denominator = math.sqrt(sum1) * math.sqrt(sum2)\n",
    "\n",
    "    if not denominator:\n",
    "        return 0.0\n",
    "    else:\n",
    "        return float(numerator) / denominator\n",
    "\n",
    "\n",
    "def text_to_vector(text):\n",
    "    words = WORD.findall(text)\n",
    "    return Counter(words)\n",
    "\n",
    "template_input_sub=re.sub('\\n',' ',template_input)\n",
    "template_input_lines=template_input_sub.split('.')\n",
    "proof_input_sub=re.sub('\\n',' ',proof_input)\n",
    "proof_input_lines=proof_input_sub.split('.')\n",
    "return_date_line=\"\"\n",
    "for line in template_input_lines:\n",
    "    if re.search('\\[ReturnMailDate\\]',line,re.IGNORECASE):\n",
    "        \n",
    "        return_date_line=line\n",
    "        \n",
    "from sklearn.metrics.pairwise import cosine_similarity\n",
    "from sklearn.feature_extraction.text import CountVectorizer\n",
    "from collections import Counter\n",
    "vector1 = text_to_vector(return_date_line)\n",
    "\n",
    "for line in proof_input_lines:\n",
    "    vector2 = text_to_vector(line)\n",
    "    if get_cosine(vector1, vector2)>0.90:\n",
    "        datetime_date=list(datefinder.find_dates(line))\n",
    "        date=datetime.strftime(datetime_date[0], '%d %B,%Y')\n",
    "        print(\"return date is ,\",date)\n",
    "    "
   ]
  },
  {
   "cell_type": "code",
   "execution_count": 63,
   "id": "f6c14c0a",
   "metadata": {},
   "outputs": [
    {
     "name": "stdout",
     "output_type": "stream",
     "text": [
      "0.17507524381296344 You can also call us at [CustomerCareNumber],[CustomerCareHours],to provide us with the information by [ReturnMailDate]\n",
      "0.0 TTY users should  call [CustomerCareTTY]\n",
      "0.9005004170528447  If you don't contact EDWP by 29 june,2022 , we will assume the above information is correct and you will owe a late Enrollment Penalty (LEP)\n",
      "0.0   Sincerly,  \n"
     ]
    }
   ],
   "source": []
  },
  {
   "cell_type": "code",
   "execution_count": 37,
   "id": "87864a92",
   "metadata": {},
   "outputs": [
    {
     "data": {
      "text/plain": [
       "2022"
      ]
     },
     "execution_count": 37,
     "metadata": {},
     "output_type": "execute_result"
    }
   ],
   "source": [
    "datetime_date[0].year"
   ]
  },
  {
   "cell_type": "code",
   "execution_count": 56,
   "id": "ace4bb97",
   "metadata": {},
   "outputs": [
    {
     "name": "stdout",
     "output_type": "stream",
     "text": [
      "Collecting python-Levenshtein\n",
      "  Downloading python-Levenshtein-0.12.2.tar.gz (50 kB)\n",
      "     |████████████████████████████████| 50 kB 621 kB/s            \n",
      "\u001b[?25h  Preparing metadata (setup.py) ... \u001b[?25ldone\n",
      "\u001b[?25hRequirement already satisfied: setuptools in /Users/ajaykhanna/miniforge3/lib/python3.9/site-packages (from python-Levenshtein) (59.4.0)\n",
      "Building wheels for collected packages: python-Levenshtein\n",
      "  Building wheel for python-Levenshtein (setup.py) ... \u001b[?25ldone\n",
      "\u001b[?25h  Created wheel for python-Levenshtein: filename=python_Levenshtein-0.12.2-cp39-cp39-macosx_11_0_arm64.whl size=73712 sha256=1745c2851797627a7740af9abd0889b0ab064a00cef93ab65423cff24c523e5f\n",
      "  Stored in directory: /Users/ajaykhanna/Library/Caches/pip/wheels/46/4a/6c/164a1d9dd67c82d208f19d869ad0a517a0c5a6117f608c53e6\n",
      "Successfully built python-Levenshtein\n",
      "Installing collected packages: python-Levenshtein\n",
      "Successfully installed python-Levenshtein-0.12.2\n",
      "Note: you may need to restart the kernel to use updated packages.\n"
     ]
    }
   ],
   "source": []
  },
  {
   "cell_type": "code",
   "execution_count": null,
   "id": "767e54ec",
   "metadata": {},
   "outputs": [],
   "source": []
  }
 ],
 "metadata": {
  "kernelspec": {
   "display_name": "Python 3 (ipykernel)",
   "language": "python",
   "name": "python3"
  },
  "language_info": {
   "codemirror_mode": {
    "name": "ipython",
    "version": 3
   },
   "file_extension": ".py",
   "mimetype": "text/x-python",
   "name": "python",
   "nbconvert_exporter": "python",
   "pygments_lexer": "ipython3",
   "version": "3.9.7"
  }
 },
 "nbformat": 4,
 "nbformat_minor": 5
}
