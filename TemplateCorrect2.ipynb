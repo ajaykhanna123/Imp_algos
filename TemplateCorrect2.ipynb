{
 "cells": [
  {
   "cell_type": "code",
   "execution_count": null,
   "id": "35788596",
   "metadata": {},
   "outputs": [],
   "source": [
    "pip install docx2txt"
   ]
  },
  {
   "cell_type": "code",
   "execution_count": null,
   "id": "40825127",
   "metadata": {},
   "outputs": [],
   "source": [
    "import docx2txt\n",
    "\n",
    "# Passing docx file to process function\n",
    "text = docx2txt.process(\"doc1.docx\")\n",
    "\n",
    "# Saving content inside docx file into output.txt file\n",
    "with open(\"output.txt\", \"w\") as text_file:\n",
    "    print(text, file=text_file)\n",
    "    \n",
    "f = open(\"output.txt\", \"r\")\n",
    "data=f.read()\n",
    "\n",
    "import re\n",
    "\n",
    "\n",
    "def error_index_conditions(error_index,test):\n",
    "    forward_index=20\n",
    "    if error_index+forward_index>len(test) and error_index-forward_index>0:\n",
    "        return \"issue is with parathesis for  \"+test[error_index-forward_index:error_index]\n",
    "    elif error_index-forward_index<0 and error_index+forward_index<len(test):\n",
    "        return \"issue is with parathesis for  \"+test[error_index:error_index+forward_index]\n",
    "    else:\n",
    "        return \"issue is with parathesis for  \"+test[error_index-forward_index:error_index+forward_index]\n",
    "    \n",
    "def check_balanced_brackets(test):\n",
    "    stack=[]\n",
    "    open_list = [\"[\",\"(\"]\n",
    "    close_list = [\"]\",\")\"]\n",
    "    \n",
    "    pos=0\n",
    "    for i in range(0,len(test)):\n",
    "        \n",
    "        if test[i] in open_list:\n",
    "            stack.append([test[i],i])\n",
    "        elif test[i] in close_list:\n",
    "        \n",
    "            pos=close_list.index(test[i])\n",
    "\n",
    "            if ((len(stack) > 0) and (open_list[pos] == stack[len(stack)-1][0])):\n",
    "                stack.pop()\n",
    "            else:\n",
    "                \n",
    "                if len(stack)==0:\n",
    "                    error_index=i\n",
    "                else:\n",
    "                    error_index=stack[0][1]\n",
    "                return error_index_conditions(error_index,test)\n",
    "    print(stack)\n",
    "    if len(stack) == 0:\n",
    "        return \"Parathesis are Balanced\"\n",
    "    else:\n",
    "        error_index=stack[0][1]\n",
    "        return error_index_conditions(error_index,test)\n",
    "    \n",
    "\n",
    "\n",
    "\n",
    "data_nn=re.sub('\\n',\" \",data)\n",
    "check_balanced_brackets(data_nn)\n",
    "\n"
   ]
  },
  {
   "cell_type": "code",
   "execution_count": null,
   "id": "9c8a95ee",
   "metadata": {},
   "outputs": [],
   "source": [
    "data_list=list(filter(None,data.split(\"\\n\")))"
   ]
  },
  {
   "cell_type": "code",
   "execution_count": null,
   "id": "95ba9d5b",
   "metadata": {},
   "outputs": [],
   "source": [
    "data_list"
   ]
  },
  {
   "cell_type": "code",
   "execution_count": null,
   "id": "5ffe1ff4",
   "metadata": {},
   "outputs": [],
   "source": [
    "for data_item in data_list:\n",
    "    date_search=re.search('(\\[date\\])',data_item,re.IGNORECASE)\n",
    "    if date_search:\n",
    "        if date_search.group().islower():\n",
    "            print(date_search.group(),\"is lowercase\")\n",
    "    f_search=re.findall('([f]\\d+)',data_item,re.IGNORECASE)\n",
    "    for f in f_search:\n",
    "        if f.islower():\n",
    "            print(f,\"is lower\")\n",
    "            \n",
    "    f_br_search=re.findall('\\((if) (.*)populate\\)',data_item,re.IGNORECASE)\n",
    "    for f_br in f_br_search:\n",
    "        if f_br[0].islower():\n",
    "            print(f_br_search,\"has lower letter\")\n",
    "        if f_br[1][-1]!=' ':\n",
    "            print(f_br_search , \"No space here for populate\")\n",
    "        or_and_s=re.search('or|and',f_br[1],re.IGNORECASE)\n",
    "        if or_and_s:\n",
    "            if or_and_s.group().islower():\n",
    "                print(f_br_search,or_and_s.group(),\" is in lowercase\")\n",
    "        not_equal_operator=re.search('is not',f_br[1],re.IGNORECASE)\n",
    "        if not_equal_operator:\n",
    "            print(f_br[1],not_equal_operator.group(),\"should not be there\")\n",
    "\n",
    "        \n",
    "    "
   ]
  },
  {
   "cell_type": "code",
   "execution_count": null,
   "id": "e3ca2108",
   "metadata": {},
   "outputs": [],
   "source": []
  }
 ],
 "metadata": {
  "kernelspec": {
   "display_name": "Python 3 (ipykernel)",
   "language": "python",
   "name": "python3"
  },
  "language_info": {
   "codemirror_mode": {
    "name": "ipython",
    "version": 3
   },
   "file_extension": ".py",
   "mimetype": "text/x-python",
   "name": "python",
   "nbconvert_exporter": "python",
   "pygments_lexer": "ipython3",
   "version": "3.9.7"
  }
 },
 "nbformat": 4,
 "nbformat_minor": 5
}
