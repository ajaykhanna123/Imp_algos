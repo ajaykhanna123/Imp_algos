{
 "cells": [
  {
   "cell_type": "code",
   "execution_count": null,
   "id": "3dd6bd30",
   "metadata": {},
   "outputs": [],
   "source": [
    "ssns=['778-62-8144','030 72 7381','70906649','16325404','757-85-7495','805 14 1893','003 06 8815']"
   ]
  },
  {
   "cell_type": "code",
   "execution_count": 1,
   "id": "6621b7e8",
   "metadata": {},
   "outputs": [],
   "source": [
    "import pandas as pd"
   ]
  },
  {
   "cell_type": "code",
   "execution_count": 2,
   "id": "67f410ac",
   "metadata": {},
   "outputs": [],
   "source": [
    "df_snns=pd.read_csv('SSN.csv')"
   ]
  },
  {
   "cell_type": "code",
   "execution_count": 6,
   "id": "40a42739",
   "metadata": {},
   "outputs": [],
   "source": [
    "snns=[s.strip() for s in df_snns['Output'].values]"
   ]
  },
  {
   "cell_type": "code",
   "execution_count": 9,
   "id": "2202b95a",
   "metadata": {},
   "outputs": [
    {
     "data": {
      "text/plain": [
       "1001"
      ]
     },
     "execution_count": 9,
     "metadata": {},
     "output_type": "execute_result"
    }
   ],
   "source": [
    "len(snns)"
   ]
  },
  {
   "cell_type": "code",
   "execution_count": 10,
   "id": "7f1f9486",
   "metadata": {},
   "outputs": [],
   "source": [
    "df_dates=pd.read_csv('country_date_formats.csv')"
   ]
  },
  {
   "cell_type": "code",
   "execution_count": 15,
   "id": "1146b60f",
   "metadata": {},
   "outputs": [],
   "source": [
    "import re\n",
    "import random"
   ]
  },
  {
   "cell_type": "code",
   "execution_count": 17,
   "id": "fe6812f8",
   "metadata": {},
   "outputs": [],
   "source": [
    "dates=[]\n",
    "fill_years_4_digits=[str(i) for i in range(1900,2026)]\n",
    "fill_years_2_digits=[str(i) for i in range(19,41)]\n",
    "fill_months=[str(i) for i in range(1,13)]\n",
    "fill_days=[str(i) for i in range(1,29)]\n",
    "for date_format in df_dates['Date Format'].values:\n",
    "    date=date_format\n",
    "    if re.search('yyyy',date_format,re.IGNORECASE):\n",
    "        date=re.sub('yyyy',random.choice(fill_years_4_digits),date,flags=re.IGNORECASE)\n",
    "    elif re.search('yy',date_format,re.IGNORECASE):\n",
    "        date=re.sub('yy',random.choice(fill_years_2_digits),date,flags=re.IGNORECASE)\n",
    "    \n",
    "    if re.search('MM',date_format,re.IGNORECASE) or re.search('M',date_format,re.IGNORECASE):\n",
    "        date=re.sub('yy|y',random.choice(fill_months),date,flags=re.IGNORECASE)\n",
    "    if re.search('MM',date_format,re.IGNORECASE) or re.search('M',date_format,re.IGNORECASE):\n",
    "        date=re.sub('MM|M',random.choice(fill_months),date,flags=re.IGNORECASE)\n",
    "    if re.search('dd',date_format,re.IGNORECASE) or re.search('d',date_format,re.IGNORECASE):\n",
    "        date=re.sub('dd|d',random.choice(fill_days),date,flags=re.IGNORECASE)\n",
    "    dates.append(date)\n",
    "        "
   ]
  },
  {
   "cell_type": "code",
   "execution_count": 19,
   "id": "391efdfb",
   "metadata": {},
   "outputs": [],
   "source": [
    "df_patients=pd.read_csv('patients.csv')"
   ]
  },
  {
   "cell_type": "code",
   "execution_count": 22,
   "id": "364e6f82",
   "metadata": {},
   "outputs": [
    {
     "data": {
      "text/html": [
       "<div>\n",
       "<style scoped>\n",
       "    .dataframe tbody tr th:only-of-type {\n",
       "        vertical-align: middle;\n",
       "    }\n",
       "\n",
       "    .dataframe tbody tr th {\n",
       "        vertical-align: top;\n",
       "    }\n",
       "\n",
       "    .dataframe thead th {\n",
       "        text-align: right;\n",
       "    }\n",
       "</style>\n",
       "<table border=\"1\" class=\"dataframe\">\n",
       "  <thead>\n",
       "    <tr style=\"text-align: right;\">\n",
       "      <th></th>\n",
       "      <th>Id</th>\n",
       "      <th>BIRTHDATE</th>\n",
       "      <th>DEATHDATE</th>\n",
       "      <th>SSN</th>\n",
       "      <th>DRIVERS</th>\n",
       "      <th>PASSPORT</th>\n",
       "      <th>PREFIX</th>\n",
       "      <th>FIRST</th>\n",
       "      <th>LAST</th>\n",
       "      <th>SUFFIX</th>\n",
       "      <th>...</th>\n",
       "      <th>BIRTHPLACE</th>\n",
       "      <th>ADDRESS</th>\n",
       "      <th>CITY</th>\n",
       "      <th>STATE</th>\n",
       "      <th>COUNTY</th>\n",
       "      <th>ZIP</th>\n",
       "      <th>LAT</th>\n",
       "      <th>LON</th>\n",
       "      <th>HEALTHCARE_EXPENSES</th>\n",
       "      <th>HEALTHCARE_COVERAGE</th>\n",
       "    </tr>\n",
       "  </thead>\n",
       "  <tbody>\n",
       "    <tr>\n",
       "      <th>0</th>\n",
       "      <td>1d604da9-9a81-4ba9-80c2-de3375d59b40</td>\n",
       "      <td>1989-05-25</td>\n",
       "      <td>NaN</td>\n",
       "      <td>999-76-6866</td>\n",
       "      <td>S99984236</td>\n",
       "      <td>X19277260X</td>\n",
       "      <td>Mr.</td>\n",
       "      <td>José Eduardo181</td>\n",
       "      <td>Gómez206</td>\n",
       "      <td>NaN</td>\n",
       "      <td>...</td>\n",
       "      <td>Marigot  Saint Andrew Parish  DM</td>\n",
       "      <td>427 Balistreri Way Unit 19</td>\n",
       "      <td>Chicopee</td>\n",
       "      <td>Massachusetts</td>\n",
       "      <td>Hampden County</td>\n",
       "      <td>1013.0</td>\n",
       "      <td>42.228354</td>\n",
       "      <td>-72.562951</td>\n",
       "      <td>271227.08</td>\n",
       "      <td>1334.88</td>\n",
       "    </tr>\n",
       "    <tr>\n",
       "      <th>1</th>\n",
       "      <td>034e9e3b-2def-4559-bb2a-7850888ae060</td>\n",
       "      <td>1983-11-14</td>\n",
       "      <td>NaN</td>\n",
       "      <td>999-73-5361</td>\n",
       "      <td>S99962402</td>\n",
       "      <td>X88275464X</td>\n",
       "      <td>Mr.</td>\n",
       "      <td>Milo271</td>\n",
       "      <td>Feil794</td>\n",
       "      <td>NaN</td>\n",
       "      <td>...</td>\n",
       "      <td>Danvers  Massachusetts  US</td>\n",
       "      <td>422 Farrell Path Unit 69</td>\n",
       "      <td>Somerville</td>\n",
       "      <td>Massachusetts</td>\n",
       "      <td>Middlesex County</td>\n",
       "      <td>2143.0</td>\n",
       "      <td>42.360697</td>\n",
       "      <td>-71.126531</td>\n",
       "      <td>793946.01</td>\n",
       "      <td>3204.49</td>\n",
       "    </tr>\n",
       "    <tr>\n",
       "      <th>2</th>\n",
       "      <td>10339b10-3cd1-4ac3-ac13-ec26728cb592</td>\n",
       "      <td>1992-06-02</td>\n",
       "      <td>NaN</td>\n",
       "      <td>999-27-3385</td>\n",
       "      <td>S99972682</td>\n",
       "      <td>X73754411X</td>\n",
       "      <td>Mr.</td>\n",
       "      <td>Jayson808</td>\n",
       "      <td>Fadel536</td>\n",
       "      <td>NaN</td>\n",
       "      <td>...</td>\n",
       "      <td>Springfield  Massachusetts  US</td>\n",
       "      <td>1056 Harris Lane Suite 70</td>\n",
       "      <td>Chicopee</td>\n",
       "      <td>Massachusetts</td>\n",
       "      <td>Hampden County</td>\n",
       "      <td>1020.0</td>\n",
       "      <td>42.181642</td>\n",
       "      <td>-72.608842</td>\n",
       "      <td>574111.90</td>\n",
       "      <td>2606.40</td>\n",
       "    </tr>\n",
       "    <tr>\n",
       "      <th>3</th>\n",
       "      <td>8d4c4326-e9de-4f45-9a4c-f8c36bff89ae</td>\n",
       "      <td>1978-05-27</td>\n",
       "      <td>NaN</td>\n",
       "      <td>999-85-4926</td>\n",
       "      <td>S99974448</td>\n",
       "      <td>X40915583X</td>\n",
       "      <td>Mrs.</td>\n",
       "      <td>Mariana775</td>\n",
       "      <td>Rutherford999</td>\n",
       "      <td>NaN</td>\n",
       "      <td>...</td>\n",
       "      <td>Yarmouth  Massachusetts  US</td>\n",
       "      <td>999 Kuhn Forge</td>\n",
       "      <td>Lowell</td>\n",
       "      <td>Massachusetts</td>\n",
       "      <td>Middlesex County</td>\n",
       "      <td>1851.0</td>\n",
       "      <td>42.636143</td>\n",
       "      <td>-71.343255</td>\n",
       "      <td>935630.30</td>\n",
       "      <td>8756.19</td>\n",
       "    </tr>\n",
       "    <tr>\n",
       "      <th>4</th>\n",
       "      <td>f5dcd418-09fe-4a2f-baa0-3da800bd8c3a</td>\n",
       "      <td>1996-10-18</td>\n",
       "      <td>NaN</td>\n",
       "      <td>999-60-7372</td>\n",
       "      <td>S99915787</td>\n",
       "      <td>X86772962X</td>\n",
       "      <td>Mr.</td>\n",
       "      <td>Gregorio366</td>\n",
       "      <td>Auer97</td>\n",
       "      <td>NaN</td>\n",
       "      <td>...</td>\n",
       "      <td>Patras  Achaea  GR</td>\n",
       "      <td>1050 Lindgren Extension Apt 38</td>\n",
       "      <td>Boston</td>\n",
       "      <td>Massachusetts</td>\n",
       "      <td>Suffolk County</td>\n",
       "      <td>2135.0</td>\n",
       "      <td>42.352434</td>\n",
       "      <td>-71.028610</td>\n",
       "      <td>598763.07</td>\n",
       "      <td>3772.20</td>\n",
       "    </tr>\n",
       "  </tbody>\n",
       "</table>\n",
       "<p>5 rows × 25 columns</p>\n",
       "</div>"
      ],
      "text/plain": [
       "                                     Id   BIRTHDATE DEATHDATE          SSN  \\\n",
       "0  1d604da9-9a81-4ba9-80c2-de3375d59b40  1989-05-25       NaN  999-76-6866   \n",
       "1  034e9e3b-2def-4559-bb2a-7850888ae060  1983-11-14       NaN  999-73-5361   \n",
       "2  10339b10-3cd1-4ac3-ac13-ec26728cb592  1992-06-02       NaN  999-27-3385   \n",
       "3  8d4c4326-e9de-4f45-9a4c-f8c36bff89ae  1978-05-27       NaN  999-85-4926   \n",
       "4  f5dcd418-09fe-4a2f-baa0-3da800bd8c3a  1996-10-18       NaN  999-60-7372   \n",
       "\n",
       "     DRIVERS    PASSPORT PREFIX            FIRST           LAST SUFFIX  ...  \\\n",
       "0  S99984236  X19277260X    Mr.  José Eduardo181       Gómez206    NaN  ...   \n",
       "1  S99962402  X88275464X    Mr.          Milo271        Feil794    NaN  ...   \n",
       "2  S99972682  X73754411X    Mr.        Jayson808       Fadel536    NaN  ...   \n",
       "3  S99974448  X40915583X   Mrs.       Mariana775  Rutherford999    NaN  ...   \n",
       "4  S99915787  X86772962X    Mr.      Gregorio366         Auer97    NaN  ...   \n",
       "\n",
       "                         BIRTHPLACE                         ADDRESS  \\\n",
       "0  Marigot  Saint Andrew Parish  DM      427 Balistreri Way Unit 19   \n",
       "1        Danvers  Massachusetts  US        422 Farrell Path Unit 69   \n",
       "2    Springfield  Massachusetts  US       1056 Harris Lane Suite 70   \n",
       "3       Yarmouth  Massachusetts  US                  999 Kuhn Forge   \n",
       "4                Patras  Achaea  GR  1050 Lindgren Extension Apt 38   \n",
       "\n",
       "         CITY          STATE            COUNTY     ZIP        LAT        LON  \\\n",
       "0    Chicopee  Massachusetts    Hampden County  1013.0  42.228354 -72.562951   \n",
       "1  Somerville  Massachusetts  Middlesex County  2143.0  42.360697 -71.126531   \n",
       "2    Chicopee  Massachusetts    Hampden County  1020.0  42.181642 -72.608842   \n",
       "3      Lowell  Massachusetts  Middlesex County  1851.0  42.636143 -71.343255   \n",
       "4      Boston  Massachusetts    Suffolk County  2135.0  42.352434 -71.028610   \n",
       "\n",
       "  HEALTHCARE_EXPENSES HEALTHCARE_COVERAGE  \n",
       "0           271227.08             1334.88  \n",
       "1           793946.01             3204.49  \n",
       "2           574111.90             2606.40  \n",
       "3           935630.30             8756.19  \n",
       "4           598763.07             3772.20  \n",
       "\n",
       "[5 rows x 25 columns]"
      ]
     },
     "execution_count": 22,
     "metadata": {},
     "output_type": "execute_result"
    }
   ],
   "source": [
    "df_patients.head()"
   ]
  },
  {
   "cell_type": "code",
   "execution_count": 39,
   "id": "7a477729",
   "metadata": {},
   "outputs": [],
   "source": [
    "address=df_patients['ADDRESS'].values\n",
    "city=df_patients['CITY'].values\n",
    "names=[]\n",
    "for name in  df_patients['FIRST']+ \" \" +df_patients['LAST']:\n",
    "    names.append(re.sub(\"\\d+\",\"\",name))\n"
   ]
  },
  {
   "cell_type": "code",
   "execution_count": 36,
   "id": "547488d7",
   "metadata": {},
   "outputs": [],
   "source": [
    "zipcodes=df_patients['ZIP'].dropna(axis=0).astype(int).astype(str).values"
   ]
  },
  {
   "cell_type": "code",
   "execution_count": 40,
   "id": "e591260b",
   "metadata": {},
   "outputs": [
    {
     "data": {
      "text/plain": [
       "Index(['Id', 'BIRTHDATE', 'DEATHDATE', 'SSN', 'DRIVERS', 'PASSPORT', 'PREFIX',\n",
       "       'FIRST', 'LAST', 'SUFFIX', 'MAIDEN', 'MARITAL', 'RACE', 'ETHNICITY',\n",
       "       'GENDER', 'BIRTHPLACE', 'ADDRESS', 'CITY', 'STATE', 'COUNTY', 'ZIP',\n",
       "       'LAT', 'LON', 'HEALTHCARE_EXPENSES', 'HEALTHCARE_COVERAGE'],\n",
       "      dtype='object')"
      ]
     },
     "execution_count": 40,
     "metadata": {},
     "output_type": "execute_result"
    }
   ],
   "source": [
    "df_patients.columns"
   ]
  },
  {
   "cell_type": "code",
   "execution_count": 42,
   "id": "330e1c48",
   "metadata": {},
   "outputs": [],
   "source": [
    "# passports\n",
    "\n",
    "url='https://raw.githubusercontent.com/vaasha/Data-Analysis_in-Examples/master/EDA_Passport_Numbers/data.csv'\n",
    "passports=pd.read_csv(url)['PassportNumber'].dropna(axis=0).values"
   ]
  },
  {
   "cell_type": "code",
   "execution_count": 52,
   "id": "3a78f8e7",
   "metadata": {},
   "outputs": [],
   "source": [
    "# email ids\n",
    "file='email_domains.txt'\n",
    "f=open(file,'r')\n",
    "domains=f.read().split(\"\\n\")\n",
    "names=df_patients['LAST'].dropna(axis=0).values\n",
    "emails=[]\n",
    "for name in names:\n",
    "    emails.append(name+random.choice(domains))"
   ]
  },
  {
   "cell_type": "code",
   "execution_count": 65,
   "id": "b7b60c3c",
   "metadata": {},
   "outputs": [],
   "source": [
    "# phone numbers\n",
    "file='phone_no.txt'\n",
    "f=open(file,'r')\n",
    "phone_data=f.read().split(\"\\n\")\n",
    "\n",
    "contacts=[]\n",
    "for numbers in phone_data:\n",
    "    contacts.append(numbers.split(\",\")[1].strip())"
   ]
  },
  {
   "cell_type": "code",
   "execution_count": 92,
   "id": "79a67d3d",
   "metadata": {},
   "outputs": [],
   "source": [
    "# medical records\n",
    "import string\n",
    "import random\n",
    "\n",
    "N = 7\n",
    "medical_records=[]\n",
    "for i in range(1000):\n",
    "    random_name= ''.join(random.choices(string.digits, k = N))\n",
    "    medical_records.append(random_name)\n",
    "    \n",
    "\n",
    "medical_prefix=[\"MR\",\"ID\",\"CA\",\"DS\"]\n",
    "medical_ids=[]\n",
    "\n",
    "for i in medical_records:\n",
    "    medical_ids.append(\"\".join(random.choices(medical_prefix))+str(i))"
   ]
  },
  {
   "cell_type": "code",
   "execution_count": 90,
   "id": "ad2d48af",
   "metadata": {},
   "outputs": [],
   "source": [
    "# account numbers\n",
    "\n",
    "account_numbers=[]\n",
    "N = 10\n",
    "for i in range(1000):\n",
    "    random_name= ''.join(random.choices(string.digits, k = N))\n",
    "    account_numbers.append(random_name)"
   ]
  },
  {
   "cell_type": "code",
   "execution_count": 111,
   "id": "b8d1ea3b",
   "metadata": {},
   "outputs": [],
   "source": [
    "# urls\n",
    "file='urls.txt'\n",
    "f=open(file,'r')\n",
    "urls_data=f.read().split(\"\\n\")\n",
    "\n",
    "urls=[]\n",
    "\n",
    "for i in urls_data:\n",
    "    urls.append(re.sub(\"'|,\",\"\",i))"
   ]
  },
  {
   "cell_type": "code",
   "execution_count": 113,
   "id": "1d46a726",
   "metadata": {},
   "outputs": [],
   "source": [
    "# IP address\n",
    "df_ips=pd.read_csv('ipv4.csv')\n",
    "df_ips.columns=['ip1','ip2','states']\n",
    "ip_address=df_ips['ip1'].values"
   ]
  },
  {
   "cell_type": "code",
   "execution_count": 110,
   "id": "12f1f4d4",
   "metadata": {},
   "outputs": [],
   "source": []
  },
  {
   "cell_type": "code",
   "execution_count": 106,
   "id": "68beb5e1",
   "metadata": {},
   "outputs": [],
   "source": []
  },
  {
   "cell_type": "code",
   "execution_count": null,
   "id": "eca4480b",
   "metadata": {},
   "outputs": [],
   "source": []
  },
  {
   "cell_type": "code",
   "execution_count": null,
   "id": "c44f1a3e",
   "metadata": {},
   "outputs": [],
   "source": []
  }
 ],
 "metadata": {
  "kernelspec": {
   "display_name": "Python 3 (ipykernel)",
   "language": "python",
   "name": "python3"
  },
  "language_info": {
   "codemirror_mode": {
    "name": "ipython",
    "version": 3
   },
   "file_extension": ".py",
   "mimetype": "text/x-python",
   "name": "python",
   "nbconvert_exporter": "python",
   "pygments_lexer": "ipython3",
   "version": "3.9.12"
  }
 },
 "nbformat": 4,
 "nbformat_minor": 5
}
