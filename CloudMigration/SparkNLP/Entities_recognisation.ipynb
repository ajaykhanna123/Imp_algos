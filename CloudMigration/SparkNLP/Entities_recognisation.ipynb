{
 "cells": [
  {
   "cell_type": "raw",
   "id": "75036d4d",
   "metadata": {},
   "source": [
    "Names\n",
    "Dates, except the year\n",
    "Telephone numbers\n",
    "Geographic data\n",
    "Fax numbers\n",
    "Social Security numbers\n",
    "Email addresses\n",
    "Medical record numbers\n",
    "Account numbers\n",
    "Health plan beneficiary numbers\n",
    "Certificate/license numbers\n",
    "Vehicle identifiers and serial numbers, including license plates\n",
    "Web URLs\n",
    "Device identifiers and serial numbers\n",
    "Internet protocol addresses\n",
    "Full face photos and comparable images\n",
    "Biometric identifiers\n",
    "Any unique identifying number, characteristic, or code"
   ]
  },
  {
   "cell_type": "markdown",
   "id": "9700fa96",
   "metadata": {},
   "source": [
    "# dates identification "
   ]
  },
  {
   "cell_type": "markdown",
   "id": "6c66598c",
   "metadata": {},
   "source": [
    "1. MM/dd/yyyy\n",
    "2. January 2, 4 B.C\n",
    "\n",
    "yyyy.MM.dd G 'at' HH:mm:ss z\t- 2001.07.04 AD at 12:08:56 PDT\n",
    "EEE, MMM d, ''yy\t            - Wed, Jul 4, '01\n",
    "h:mm a\t                        - 12:08 PM\n",
    "hh 'o''clock' a, zzzz\t        - 12 o'clock PM, Pacific Daylight Time\n",
    "K:mm a, z\t                    - 0:08 PM, PDT\n",
    "yyyyy.MMMMM.dd GGG hh:mm aaa\t- 02001.July.04 AD 12:08 PM\n",
    "EEE, d MMM yyyy HH:mm:ss Z\t    - Wed, 4 Jul 2001 12:08:56 -0700\n",
    "yyMMddHHmmssZ\t                - 010704120856-0700\n",
    "\n",
    "1912/08/12\n",
    "\n",
    "https://docs.oracle.com/cd/E41183_01/DR/Date_Format_Types.html\n",
    "\n"
   ]
  },
  {
   "cell_type": "markdown",
   "id": "fbd06bfa",
   "metadata": {},
   "source": [
    "# Telephone numbers"
   ]
  },
  {
   "cell_type": "raw",
   "id": "ea6dedd4",
   "metadata": {},
   "source": [
    "(555) 555-1234\n",
    "\n",
    "Phone numbers in the United States typically consist of 11 digits \n",
    "— the 1-digit country code, a 3-digit area code and a 7-digit telephone number.\n",
    "The 7-digit telephone number is further comprised of a 3-digit central office or exchange code and a 4-digit subscriber number."
   ]
  },
  {
   "cell_type": "raw",
   "id": "8a521f8c",
   "metadata": {},
   "source": [
    "2124567890\n",
    "212-456-7890\n",
    "(212)456-7890\n",
    "(212)-456-7890\n",
    "212.456.7890\n",
    "212 456 7890\n",
    "+12124567890\n",
    "+12124567890\n",
    "+1 212.456.7890\n",
    "+212-456-7890\n",
    "1-212-456-7890"
   ]
  },
  {
   "cell_type": "markdown",
   "id": "e3894842",
   "metadata": {},
   "source": [
    "# social security number formats\n",
    "\n"
   ]
  },
  {
   "cell_type": "raw",
   "id": "efe558ab",
   "metadata": {},
   "source": [
    "The nine-digit SSN is composed of three parts: \n",
    "    The first set of three digits is called the Area Number. \n",
    "    The second set of two digits is called the Group Number. \n",
    "    The final set of four digits is the Serial Number.\n",
    "    \n",
    "    \n",
    "Area Number\n",
    "For SSNs issued between 1936—when they were first introduced—and 1972, the three digit area number (A) corresponds to the state in which the individual applied for their SSN. Between 1972 and June 25, 2011, while the area numbers of the SSN still correspond to a state, they are based on the ZIP code of the individual’s mailing address when they applied for a SSN.\n",
    "\n",
    "Group Number\n",
    "The group number (G), or second set of digits, refers to the specific order in which SSNs are distributed within a geographical area from 01 to 99. First, odd numbers are assigned from 01 to 09 followed by even numbers from 10 to 98. Then, even numbers are assigned from 02 to 08. Last, odd numbers from 11 to 99 are assigned.\n",
    "\n",
    "It is possible to determine if a social security number is valid using the SSA’s High Group History List. The SSA published the highest group number that is issued each month according to each area number. This means that any group numbers below the highest, according to the assigning pattern, are valid.\n",
    "\n",
    "Serial Number\n",
    "The final section, made up of four numbers, is assigned consecutively from 0001 to 9999.\n",
    "\n",
    "This can be useful for validating a SSN or determining the state of an individual’s mailing address. While social security numbers are not readily available or able to be looked up, they may sometimes appear on older public documents."
   ]
  },
  {
   "cell_type": "markdown",
   "id": "797dd417",
   "metadata": {},
   "source": [
    "# Urls"
   ]
  },
  {
   "cell_type": "raw",
   "id": "b50fab3e",
   "metadata": {},
   "source": [
    "https://www.google.com/support/enterprise/static/gsa/docs/admin/current/gsa_doc_set/admin_crawl/url_patterns.html"
   ]
  },
  {
   "cell_type": "markdown",
   "id": "ce1cc568",
   "metadata": {},
   "source": [
    "# email address patterns\n"
   ]
  },
  {
   "cell_type": "raw",
   "id": "c26574f7",
   "metadata": {},
   "source": [
    "https://help.xmatters.com/ondemand/trial/valid_email_format.htm"
   ]
  },
  {
   "cell_type": "code",
   "execution_count": null,
   "id": "4df7f56e",
   "metadata": {},
   "outputs": [],
   "source": []
  }
 ],
 "metadata": {
  "kernelspec": {
   "display_name": "Python 3 (ipykernel)",
   "language": "python",
   "name": "python3"
  },
  "language_info": {
   "codemirror_mode": {
    "name": "ipython",
    "version": 3
   },
   "file_extension": ".py",
   "mimetype": "text/x-python",
   "name": "python",
   "nbconvert_exporter": "python",
   "pygments_lexer": "ipython3",
   "version": "3.9.10"
  }
 },
 "nbformat": 4,
 "nbformat_minor": 5
}
