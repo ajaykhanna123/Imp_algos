{
 "cells": [
  {
   "cell_type": "code",
   "execution_count": 1,
   "id": "e298c372",
   "metadata": {},
   "outputs": [],
   "source": [
    "\n",
    "\n",
    "# using random.choices()\n",
    "# generating random strings\n",
    "\n",
    "\n"
   ]
  },
  {
   "cell_type": "code",
   "execution_count": 35,
   "id": "76581dba",
   "metadata": {},
   "outputs": [],
   "source": []
  },
  {
   "cell_type": "code",
   "execution_count": 3,
   "id": "55bd4560",
   "metadata": {},
   "outputs": [],
   "source": [
    "# 1. len(chunk_list) must not be greater than 50"
   ]
  },
  {
   "cell_type": "code",
   "execution_count": 57,
   "id": "893857c4",
   "metadata": {},
   "outputs": [
    {
     "name": "stdout",
     "output_type": "stream",
     "text": [
      "chunk size is  2000\n"
     ]
    }
   ],
   "source": [
    "import string\n",
    "import random\n",
    "max_ACI_count=50\n",
    "N = 7\n",
    "filenames=[]\n",
    "for i in range(100000):\n",
    "    random_name= ''.join(random.choices(string.ascii_uppercase +string.digits, k = N))\n",
    "    filenames.append(random_name)\n",
    "chunk_list=[]\n",
    "sub_chunk_list_size=len(filenames)//max_ACI_count\n",
    "left_files=len(filenames)%max_ACI_count\n",
    "print(\"chunk size is \",sub_chunk_list_size)\n",
    "if left_files!=0:\n",
    "    print(\"last index will have\",left_files,\"extra\")\n",
    "for _ in range(max_ACI_count):\n",
    "    chunk_list.append(filenames[:sub_chunk_list_size])\n",
    "chunk_list[-1].extend(filenames[-left_files:])"
   ]
  },
  {
   "cell_type": "code",
   "execution_count": 58,
   "id": "06d40da8",
   "metadata": {},
   "outputs": [
    {
     "data": {
      "text/plain": [
       "2000"
      ]
     },
     "execution_count": 58,
     "metadata": {},
     "output_type": "execute_result"
    }
   ],
   "source": [
    "len(chunk_list[2])"
   ]
  },
  {
   "cell_type": "code",
   "execution_count": 62,
   "id": "94cf76ec",
   "metadata": {},
   "outputs": [
    {
     "name": "stdout",
     "output_type": "stream",
     "text": [
      "all file items are sent\n"
     ]
    }
   ],
   "source": [
    "new_chunk_list=[]\n",
    "\n",
    "while len(chunk_list)!=0:\n",
    "    print(\"send item to ACI and read it\")\n",
    "    item_popped=chunk_list.pop(0)\n",
    "    new_chunk_list.append(item_popped)\n",
    "if len(chunk_list)==0:\n",
    "    print(\"all file items are sent\")"
   ]
  },
  {
   "cell_type": "code",
   "execution_count": 61,
   "id": "eb7937d2",
   "metadata": {},
   "outputs": [
    {
     "data": {
      "text/plain": [
       "50"
      ]
     },
     "execution_count": 61,
     "metadata": {},
     "output_type": "execute_result"
    }
   ],
   "source": [
    "len(new_chunk_list)"
   ]
  },
  {
   "cell_type": "code",
   "execution_count": null,
   "id": "20511bff",
   "metadata": {},
   "outputs": [],
   "source": []
  }
 ],
 "metadata": {
  "kernelspec": {
   "display_name": "Python 3 (ipykernel)",
   "language": "python",
   "name": "python3"
  },
  "language_info": {
   "codemirror_mode": {
    "name": "ipython",
    "version": 3
   },
   "file_extension": ".py",
   "mimetype": "text/x-python",
   "name": "python",
   "nbconvert_exporter": "python",
   "pygments_lexer": "ipython3",
   "version": "3.9.12"
  }
 },
 "nbformat": 4,
 "nbformat_minor": 5
}
