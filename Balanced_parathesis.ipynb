{
 "cells": [
  {
   "cell_type": "code",
   "execution_count": 3,
   "id": "fe012fcb",
   "metadata": {},
   "outputs": [
    {
     "name": "stdout",
     "output_type": "stream",
     "text": [
      "[]\n"
     ]
    },
    {
     "data": {
      "text/plain": [
       "'Parathesis are Balanced'"
      ]
     },
     "execution_count": 3,
     "metadata": {},
     "output_type": "execute_result"
    }
   ],
   "source": [
    "\n",
    "\n",
    "import re\n",
    "def error_index_conditions(error_index,test):\n",
    "    if error_index+forward_index>len(test) and error_index-forward_index>0:\n",
    "        return \"issue is with parathesis for  \"+test[error_index-forward_index:error_index]\n",
    "    elif error_index-forward_index<0 and error_index+forward_index<len(test):\n",
    "        return \"issue is with parathesis for  \"+test[error_index:error_index+forward_index]\n",
    "    else:\n",
    "        return \"issue is with parathesis for  \"+test[error_index-forward_index:error_index+forward_index]\n",
    "    \n",
    "def check_balanced_brackets(test):\n",
    "    stack=[]\n",
    "    open_list = [\"[\",\"(\"]\n",
    "    close_list = [\"]\",\")\"]\n",
    "    forward_index=20\n",
    "    pos=0\n",
    "    for i in range(0,len(test)):\n",
    "        \n",
    "        if test[i] in open_list:\n",
    "            stack.append([test[i],i])\n",
    "        elif test[i] in close_list:\n",
    "        \n",
    "            pos=close_list.index(test[i])\n",
    "\n",
    "            if ((len(stack) > 0) and (open_list[pos] == stack[len(stack)-1][0])):\n",
    "                stack.pop()\n",
    "            else:\n",
    "                \n",
    "                if len(stack)==0:\n",
    "                    error_index=i\n",
    "                else:\n",
    "                    error_index=stack[0][1]\n",
    "                return error_index_conditions(error_index,test)\n",
    "    print(stack)\n",
    "    if len(stack) == 0:\n",
    "        return \"Parathesis are Balanced\"\n",
    "    else:\n",
    "        error_index=stack[0][1]\n",
    "        return error_index_conditions(error_index,test)\n",
    "    \n",
    "\n",
    "\n",
    "data=\"dnwd[]\"\n",
    "data_nn=re.sub('\\n',\" \",data)\n",
    "check_balanced_brackets(data_nn)"
   ]
  },
  {
   "cell_type": "code",
   "execution_count": null,
   "id": "35062e92",
   "metadata": {},
   "outputs": [],
   "source": []
  }
 ],
 "metadata": {
  "kernelspec": {
   "display_name": "Python 3 (ipykernel)",
   "language": "python",
   "name": "python3"
  },
  "language_info": {
   "codemirror_mode": {
    "name": "ipython",
    "version": 3
   },
   "file_extension": ".py",
   "mimetype": "text/x-python",
   "name": "python",
   "nbconvert_exporter": "python",
   "pygments_lexer": "ipython3",
   "version": "3.9.7"
  }
 },
 "nbformat": 4,
 "nbformat_minor": 5
}
