{
 "cells": [
  {
   "cell_type": "raw",
   "id": "6c867c1e",
   "metadata": {},
   "source": [
    "n=r or n=p and q=4 or p=3 and q=4   -> (n=r or n=p) and (q=4 or q=3) and q=4\n",
    "(n=r or n=p) and (q=4 and p=3 and q=4)-> (n=r or n=p) and (q=4 and p=3 and q=4)"
   ]
  },
  {
   "cell_type": "code",
   "execution_count": 4,
   "id": "18bcb014",
   "metadata": {},
   "outputs": [],
   "source": [
    "import re\n",
    "exp=\"n=r or n=p and q=4 or p=3 and q=4\"\n",
    "logics=re.findall('[a-z]=[a-z0-9]',exp)\n",
    "op=re.findall('or|and',exp)"
   ]
  },
  {
   "cell_type": "code",
   "execution_count": 5,
   "id": "72ebc0f6",
   "metadata": {},
   "outputs": [
    {
     "data": {
      "text/plain": [
       "['or', 'and', 'or', 'and']"
      ]
     },
     "execution_count": 5,
     "metadata": {},
     "output_type": "execute_result"
    }
   ],
   "source": [
    "op"
   ]
  },
  {
   "cell_type": "code",
   "execution_count": 6,
   "id": "f64132bb",
   "metadata": {},
   "outputs": [
    {
     "data": {
      "text/plain": [
       "['n=r', 'n=p', 'q=4', 'p=3', 'q=4']"
      ]
     },
     "execution_count": 6,
     "metadata": {},
     "output_type": "execute_result"
    }
   ],
   "source": [
    "logics"
   ]
  },
  {
   "cell_type": "code",
   "execution_count": 14,
   "id": "267296e9",
   "metadata": {},
   "outputs": [
    {
     "data": {
      "text/plain": [
       "'(n=r or n=p) and (q=4 or p=3 and q=4)'"
      ]
     },
     "execution_count": 14,
     "metadata": {},
     "output_type": "execute_result"
    }
   ],
   "source": [
    "\"(\"+exp.split('and', 1)[0].strip()+\")\"+\" and \"+\"(\"+exp.split('and', 1)[1].strip()+\")\""
   ]
  },
  {
   "cell_type": "code",
   "execution_count": null,
   "id": "d9678c22",
   "metadata": {},
   "outputs": [],
   "source": []
  }
 ],
 "metadata": {
  "kernelspec": {
   "display_name": "Python 3 (ipykernel)",
   "language": "python",
   "name": "python3"
  },
  "language_info": {
   "codemirror_mode": {
    "name": "ipython",
    "version": 3
   },
   "file_extension": ".py",
   "mimetype": "text/x-python",
   "name": "python",
   "nbconvert_exporter": "python",
   "pygments_lexer": "ipython3",
   "version": "3.9.7"
  }
 },
 "nbformat": 4,
 "nbformat_minor": 5
}
