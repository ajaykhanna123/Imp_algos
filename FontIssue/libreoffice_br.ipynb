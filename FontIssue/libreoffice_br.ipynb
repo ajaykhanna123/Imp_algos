{
 "cells": [
  {
   "cell_type": "code",
   "execution_count": 4,
   "id": "ea490685",
   "metadata": {},
   "outputs": [],
   "source": []
  },
  {
   "cell_type": "code",
   "execution_count": null,
   "id": "77d4f2c5",
   "metadata": {},
   "outputs": [],
   "source": []
  },
  {
   "cell_type": "code",
   "execution_count": 52,
   "id": "903f48a3",
   "metadata": {},
   "outputs": [
    {
     "name": "stdout",
     "output_type": "stream",
     "text": [
      "We have a cached copy of LibreOffice, skipping extraction\n",
      "adding font file\n",
      "Are bhai , we already have this font\n"
     ]
    }
   ],
   "source": [
    "import shutil\n",
    "import os\n",
    "from io import BytesIO\n",
    "import tarfile\n",
    "import boto3\n",
    "import subprocess\n",
    "import brotli\n",
    "\n",
    "path='/Users/ajaykhanna/Documents/projects/EXL/Projects/font_issues/'\n",
    "libre_office_install_dir=path+\"instdir\"\n",
    "\n",
    "\n",
    "if os.path.exists(libre_office_install_dir) and os.path.isdir(libre_office_install_dir):\n",
    "    print('We have a cached copy of LibreOffice, skipping extraction')\n",
    "else:\n",
    "    print('No cached copy of LibreOffice, extracting tar stream from Brotli file.')\n",
    "    buffer = BytesIO()\n",
    "    with open('lo.tar.br', 'rb') as brotli_file:\n",
    "        d = brotli.Decompressor()\n",
    "        while True:\n",
    "            chunk = brotli_file.read(1024)\n",
    "            buffer.write(d.decompress(chunk))\n",
    "            if len(chunk) < 1024:\n",
    "                break\n",
    "        buffer.seek(0)\n",
    "    print('Extracting tar stream to /instdir for caching.')\n",
    "    with tarfile.open(fileobj=buffer) as tar:\n",
    "        tar.extractall(path)\n",
    "    print('Done caching LibreOffice!')\n",
    "    \n",
    "print(\"adding font file\")\n",
    "files = ['Caslon540LTStd-Roman.otf']\n",
    "font_copy_folder='instdir/share/fonts/truetype'\n",
    "for f in files:\n",
    "    fname=path+font_copy_folder+\"/\"+f\n",
    "    if not os.path.isfile(fname):\n",
    "        shutil.copy(f, path+font_copy_folder)\n",
    "        print(\"added font \",\" \",files)\n",
    "    else:\n",
    "        print(\"Are bhai , we already have this font\")\n"
   ]
  },
  {
   "cell_type": "code",
   "execution_count": 36,
   "id": "69c5547d",
   "metadata": {},
   "outputs": [
    {
     "data": {
      "text/plain": [
       "'/Users/ajaykhanna/Documents/projects/EXL/Projects/font_issues/'"
      ]
     },
     "execution_count": 36,
     "metadata": {},
     "output_type": "execute_result"
    }
   ],
   "source": [
    "path"
   ]
  },
  {
   "cell_type": "code",
   "execution_count": 49,
   "id": "4c5017e8",
   "metadata": {},
   "outputs": [],
   "source": [
    "\n",
    "def zip_directory(folder_path, zip_path):\n",
    "    with zipfile.ZipFile(zip_path, mode='w') as zipf:\n",
    "        len_dir_path = len(folder_path)\n",
    "        for root, _, files in os.walk(folder_path):\n",
    "            for file in files:\n",
    "                if file.startswith('.'):\n",
    "                    continue\n",
    "                file_path = os.path.join(root, file)\n",
    "                zipf.write(file_path, file_path[len_dir_path:])\n",
    "                \n",
    "zip_directory(path+\"test/instdir\", path+\"lo.tar.zip\")\n"
   ]
  },
  {
   "cell_type": "code",
   "execution_count": 50,
   "id": "171f79a4",
   "metadata": {},
   "outputs": [
    {
     "ename": "TypeError",
     "evalue": "initializer for ctype 'uint8_t[]' must be a bytes or list or tuple, not str",
     "output_type": "error",
     "traceback": [
      "\u001b[0;31m---------------------------------------------------------------------------\u001b[0m",
      "\u001b[0;31mTypeError\u001b[0m                                 Traceback (most recent call last)",
      "Input \u001b[0;32mIn [50]\u001b[0m, in \u001b[0;36m<cell line: 1>\u001b[0;34m()\u001b[0m\n\u001b[0;32m----> 1\u001b[0m \u001b[43mbrotli\u001b[49m\u001b[38;5;241;43m.\u001b[39;49m\u001b[43mcompress\u001b[49m\u001b[43m(\u001b[49m\u001b[43mpath\u001b[49m\u001b[38;5;241;43m+\u001b[39;49m\u001b[38;5;124;43m\"\u001b[39;49m\u001b[38;5;124;43mlo.tar.zip\u001b[39;49m\u001b[38;5;124;43m\"\u001b[39;49m\u001b[43m)\u001b[49m\n",
      "File \u001b[0;32m~/miniforge3/lib/python3.9/site-packages/brotli/brotli.py:147\u001b[0m, in \u001b[0;36mcompress\u001b[0;34m(data, mode, quality, lgwin, lgblock, dictionary)\u001b[0m\n\u001b[1;32m    135\u001b[0m \u001b[38;5;66;03m# This method uses private variables on the Compressor object, and\u001b[39;00m\n\u001b[1;32m    136\u001b[0m \u001b[38;5;66;03m# generally does a whole lot of stuff that's not supported by the public\u001b[39;00m\n\u001b[1;32m    137\u001b[0m \u001b[38;5;66;03m# API. The goal here is to minimise the number of allocations and copies\u001b[39;00m\n\u001b[1;32m    138\u001b[0m \u001b[38;5;66;03m# we have to do. Users should prefer this method over the Compressor if\u001b[39;00m\n\u001b[1;32m    139\u001b[0m \u001b[38;5;66;03m# they know they have single-shot data.\u001b[39;00m\n\u001b[1;32m    140\u001b[0m compressor \u001b[38;5;241m=\u001b[39m Compressor(\n\u001b[1;32m    141\u001b[0m     mode\u001b[38;5;241m=\u001b[39mmode,\n\u001b[1;32m    142\u001b[0m     quality\u001b[38;5;241m=\u001b[39mquality,\n\u001b[0;32m   (...)\u001b[0m\n\u001b[1;32m    145\u001b[0m     dictionary\u001b[38;5;241m=\u001b[39mdictionary\n\u001b[1;32m    146\u001b[0m )\n\u001b[0;32m--> 147\u001b[0m compressed_data \u001b[38;5;241m=\u001b[39m \u001b[43mcompressor\u001b[49m\u001b[38;5;241;43m.\u001b[39;49m\u001b[43m_compress\u001b[49m\u001b[43m(\u001b[49m\u001b[43mdata\u001b[49m\u001b[43m,\u001b[49m\u001b[43m \u001b[49m\u001b[43mlib\u001b[49m\u001b[38;5;241;43m.\u001b[39;49m\u001b[43mBROTLI_OPERATION_FINISH\u001b[49m\u001b[43m)\u001b[49m\n\u001b[1;32m    148\u001b[0m \u001b[38;5;28;01massert\u001b[39;00m lib\u001b[38;5;241m.\u001b[39mBrotliEncoderIsFinished(compressor\u001b[38;5;241m.\u001b[39m_encoder) \u001b[38;5;241m==\u001b[39m lib\u001b[38;5;241m.\u001b[39mBROTLI_TRUE\n\u001b[1;32m    149\u001b[0m \u001b[38;5;28;01massert\u001b[39;00m (\n\u001b[1;32m    150\u001b[0m     lib\u001b[38;5;241m.\u001b[39mBrotliEncoderHasMoreOutput(compressor\u001b[38;5;241m.\u001b[39m_encoder) \u001b[38;5;241m==\u001b[39m lib\u001b[38;5;241m.\u001b[39mBROTLI_FALSE\n\u001b[1;32m    151\u001b[0m )\n",
      "File \u001b[0;32m~/miniforge3/lib/python3.9/site-packages/brotli/brotli.py:299\u001b[0m, in \u001b[0;36mCompressor._compress\u001b[0;34m(self, data, operation)\u001b[0m\n\u001b[1;32m    297\u001b[0m ptr_to_output_buffer \u001b[38;5;241m=\u001b[39m ffi\u001b[38;5;241m.\u001b[39mnew(\u001b[38;5;124m\"\u001b[39m\u001b[38;5;124muint8_t **\u001b[39m\u001b[38;5;124m\"\u001b[39m, output_buffer)\n\u001b[1;32m    298\u001b[0m input_size \u001b[38;5;241m=\u001b[39m ffi\u001b[38;5;241m.\u001b[39mnew(\u001b[38;5;124m\"\u001b[39m\u001b[38;5;124msize_t *\u001b[39m\u001b[38;5;124m\"\u001b[39m, \u001b[38;5;28mlen\u001b[39m(data))\n\u001b[0;32m--> 299\u001b[0m input_buffer \u001b[38;5;241m=\u001b[39m \u001b[43mffi\u001b[49m\u001b[38;5;241;43m.\u001b[39;49m\u001b[43mnew\u001b[49m\u001b[43m(\u001b[49m\u001b[38;5;124;43m\"\u001b[39;49m\u001b[38;5;124;43muint8_t []\u001b[39;49m\u001b[38;5;124;43m\"\u001b[39;49m\u001b[43m,\u001b[49m\u001b[43m \u001b[49m\u001b[43mdata\u001b[49m\u001b[43m)\u001b[49m\n\u001b[1;32m    300\u001b[0m ptr_to_input_buffer \u001b[38;5;241m=\u001b[39m ffi\u001b[38;5;241m.\u001b[39mnew(\u001b[38;5;124m\"\u001b[39m\u001b[38;5;124muint8_t **\u001b[39m\u001b[38;5;124m\"\u001b[39m, input_buffer)\n\u001b[1;32m    302\u001b[0m rc \u001b[38;5;241m=\u001b[39m lib\u001b[38;5;241m.\u001b[39mBrotliEncoderCompressStream(\n\u001b[1;32m    303\u001b[0m     \u001b[38;5;28mself\u001b[39m\u001b[38;5;241m.\u001b[39m_encoder,\n\u001b[1;32m    304\u001b[0m     operation,\n\u001b[0;32m   (...)\u001b[0m\n\u001b[1;32m    309\u001b[0m     ffi\u001b[38;5;241m.\u001b[39mNULL\n\u001b[1;32m    310\u001b[0m )\n",
      "\u001b[0;31mTypeError\u001b[0m: initializer for ctype 'uint8_t[]' must be a bytes or list or tuple, not str"
     ]
    }
   ],
   "source": [
    "brotli.compress(path+\"lo.tar.zip\")"
   ]
  },
  {
   "cell_type": "code",
   "execution_count": 25,
   "id": "36853b6a",
   "metadata": {},
   "outputs": [
    {
     "ename": "IsADirectoryError",
     "evalue": "[Errno 21] Is a directory: '/Users/ajaykhanna/Documents/projects/EXL/Projects/font_issues/instdir'",
     "output_type": "error",
     "traceback": [
      "\u001b[0;31m---------------------------------------------------------------------------\u001b[0m",
      "\u001b[0;31mIsADirectoryError\u001b[0m                         Traceback (most recent call last)",
      "Input \u001b[0;32mIn [25]\u001b[0m, in \u001b[0;36m<cell line: 5>\u001b[0;34m()\u001b[0m\n\u001b[1;32m      3\u001b[0m         tar\u001b[38;5;241m.\u001b[39madd(source_dir, arcname\u001b[38;5;241m=\u001b[39mos\u001b[38;5;241m.\u001b[39mpath\u001b[38;5;241m.\u001b[39mbasename(source_dir))\n\u001b[1;32m      4\u001b[0m output_filename\u001b[38;5;241m=\u001b[39mlibre_office_install_dir\n\u001b[0;32m----> 5\u001b[0m \u001b[43mmake_tarfile\u001b[49m\u001b[43m(\u001b[49m\u001b[43moutput_filename\u001b[49m\u001b[43m,\u001b[49m\u001b[43mpath\u001b[49m\u001b[43m)\u001b[49m\n",
      "Input \u001b[0;32mIn [25]\u001b[0m, in \u001b[0;36mmake_tarfile\u001b[0;34m(output_filename, source_dir)\u001b[0m\n\u001b[1;32m      1\u001b[0m \u001b[38;5;28;01mdef\u001b[39;00m \u001b[38;5;21mmake_tarfile\u001b[39m(output_filename, source_dir):\n\u001b[0;32m----> 2\u001b[0m     \u001b[38;5;28;01mwith\u001b[39;00m \u001b[43mtarfile\u001b[49m\u001b[38;5;241;43m.\u001b[39;49m\u001b[43mopen\u001b[49m\u001b[43m(\u001b[49m\u001b[43moutput_filename\u001b[49m\u001b[43m)\u001b[49m \u001b[38;5;28;01mas\u001b[39;00m tar:\n\u001b[1;32m      3\u001b[0m         tar\u001b[38;5;241m.\u001b[39madd(source_dir, arcname\u001b[38;5;241m=\u001b[39mos\u001b[38;5;241m.\u001b[39mpath\u001b[38;5;241m.\u001b[39mbasename(source_dir))\n",
      "File \u001b[0;32m~/miniforge3/lib/python3.9/tarfile.py:1611\u001b[0m, in \u001b[0;36mTarFile.open\u001b[0;34m(cls, name, mode, fileobj, bufsize, **kwargs)\u001b[0m\n\u001b[1;32m   1609\u001b[0m     saved_pos \u001b[38;5;241m=\u001b[39m fileobj\u001b[38;5;241m.\u001b[39mtell()\n\u001b[1;32m   1610\u001b[0m \u001b[38;5;28;01mtry\u001b[39;00m:\n\u001b[0;32m-> 1611\u001b[0m     \u001b[38;5;28;01mreturn\u001b[39;00m \u001b[43mfunc\u001b[49m\u001b[43m(\u001b[49m\u001b[43mname\u001b[49m\u001b[43m,\u001b[49m\u001b[43m \u001b[49m\u001b[38;5;124;43m\"\u001b[39;49m\u001b[38;5;124;43mr\u001b[39;49m\u001b[38;5;124;43m\"\u001b[39;49m\u001b[43m,\u001b[49m\u001b[43m \u001b[49m\u001b[43mfileobj\u001b[49m\u001b[43m,\u001b[49m\u001b[43m \u001b[49m\u001b[38;5;241;43m*\u001b[39;49m\u001b[38;5;241;43m*\u001b[39;49m\u001b[43mkwargs\u001b[49m\u001b[43m)\u001b[49m\n\u001b[1;32m   1612\u001b[0m \u001b[38;5;28;01mexcept\u001b[39;00m (ReadError, CompressionError):\n\u001b[1;32m   1613\u001b[0m     \u001b[38;5;28;01mif\u001b[39;00m fileobj \u001b[38;5;129;01mis\u001b[39;00m \u001b[38;5;129;01mnot\u001b[39;00m \u001b[38;5;28;01mNone\u001b[39;00m:\n",
      "File \u001b[0;32m~/miniforge3/lib/python3.9/tarfile.py:1675\u001b[0m, in \u001b[0;36mTarFile.gzopen\u001b[0;34m(cls, name, mode, fileobj, compresslevel, **kwargs)\u001b[0m\n\u001b[1;32m   1672\u001b[0m     \u001b[38;5;28;01mraise\u001b[39;00m CompressionError(\u001b[38;5;124m\"\u001b[39m\u001b[38;5;124mgzip module is not available\u001b[39m\u001b[38;5;124m\"\u001b[39m)\n\u001b[1;32m   1674\u001b[0m \u001b[38;5;28;01mtry\u001b[39;00m:\n\u001b[0;32m-> 1675\u001b[0m     fileobj \u001b[38;5;241m=\u001b[39m \u001b[43mGzipFile\u001b[49m\u001b[43m(\u001b[49m\u001b[43mname\u001b[49m\u001b[43m,\u001b[49m\u001b[43m \u001b[49m\u001b[43mmode\u001b[49m\u001b[43m \u001b[49m\u001b[38;5;241;43m+\u001b[39;49m\u001b[43m \u001b[49m\u001b[38;5;124;43m\"\u001b[39;49m\u001b[38;5;124;43mb\u001b[39;49m\u001b[38;5;124;43m\"\u001b[39;49m\u001b[43m,\u001b[49m\u001b[43m \u001b[49m\u001b[43mcompresslevel\u001b[49m\u001b[43m,\u001b[49m\u001b[43m \u001b[49m\u001b[43mfileobj\u001b[49m\u001b[43m)\u001b[49m\n\u001b[1;32m   1676\u001b[0m \u001b[38;5;28;01mexcept\u001b[39;00m \u001b[38;5;167;01mOSError\u001b[39;00m:\n\u001b[1;32m   1677\u001b[0m     \u001b[38;5;28;01mif\u001b[39;00m fileobj \u001b[38;5;129;01mis\u001b[39;00m \u001b[38;5;129;01mnot\u001b[39;00m \u001b[38;5;28;01mNone\u001b[39;00m \u001b[38;5;129;01mand\u001b[39;00m mode \u001b[38;5;241m==\u001b[39m \u001b[38;5;124m'\u001b[39m\u001b[38;5;124mr\u001b[39m\u001b[38;5;124m'\u001b[39m:\n",
      "File \u001b[0;32m~/miniforge3/lib/python3.9/gzip.py:173\u001b[0m, in \u001b[0;36mGzipFile.__init__\u001b[0;34m(self, filename, mode, compresslevel, fileobj, mtime)\u001b[0m\n\u001b[1;32m    171\u001b[0m     mode \u001b[38;5;241m+\u001b[39m\u001b[38;5;241m=\u001b[39m \u001b[38;5;124m'\u001b[39m\u001b[38;5;124mb\u001b[39m\u001b[38;5;124m'\u001b[39m\n\u001b[1;32m    172\u001b[0m \u001b[38;5;28;01mif\u001b[39;00m fileobj \u001b[38;5;129;01mis\u001b[39;00m \u001b[38;5;28;01mNone\u001b[39;00m:\n\u001b[0;32m--> 173\u001b[0m     fileobj \u001b[38;5;241m=\u001b[39m \u001b[38;5;28mself\u001b[39m\u001b[38;5;241m.\u001b[39mmyfileobj \u001b[38;5;241m=\u001b[39m \u001b[43mbuiltins\u001b[49m\u001b[38;5;241;43m.\u001b[39;49m\u001b[43mopen\u001b[49m\u001b[43m(\u001b[49m\u001b[43mfilename\u001b[49m\u001b[43m,\u001b[49m\u001b[43m \u001b[49m\u001b[43mmode\u001b[49m\u001b[43m \u001b[49m\u001b[38;5;129;43;01mor\u001b[39;49;00m\u001b[43m \u001b[49m\u001b[38;5;124;43m'\u001b[39;49m\u001b[38;5;124;43mrb\u001b[39;49m\u001b[38;5;124;43m'\u001b[39;49m\u001b[43m)\u001b[49m\n\u001b[1;32m    174\u001b[0m \u001b[38;5;28;01mif\u001b[39;00m filename \u001b[38;5;129;01mis\u001b[39;00m \u001b[38;5;28;01mNone\u001b[39;00m:\n\u001b[1;32m    175\u001b[0m     filename \u001b[38;5;241m=\u001b[39m \u001b[38;5;28mgetattr\u001b[39m(fileobj, \u001b[38;5;124m'\u001b[39m\u001b[38;5;124mname\u001b[39m\u001b[38;5;124m'\u001b[39m, \u001b[38;5;124m'\u001b[39m\u001b[38;5;124m'\u001b[39m)\n",
      "\u001b[0;31mIsADirectoryError\u001b[0m: [Errno 21] Is a directory: '/Users/ajaykhanna/Documents/projects/EXL/Projects/font_issues/instdir'"
     ]
    }
   ],
   "source": [
    "def make_tarfile(output_filename, source_dir):\n",
    "    with tarfile.open(output_filename) as tar:\n",
    "        tar.add(source_dir, arcname=os.path.basename(source_dir))\n",
    "output_filename=libre_office_install_dir\n",
    "make_tarfile(output_filename,path)"
   ]
  },
  {
   "cell_type": "code",
   "execution_count": 24,
   "id": "619b175b",
   "metadata": {},
   "outputs": [
    {
     "data": {
      "text/plain": [
       "'/Users/ajaykhanna/Documents/projects/EXL/Projects/font_issues/instdir'"
      ]
     },
     "execution_count": 24,
     "metadata": {},
     "output_type": "execute_result"
    }
   ],
   "source": [
    "libre_office_install_dir"
   ]
  },
  {
   "cell_type": "code",
   "execution_count": 22,
   "id": "ed02772b",
   "metadata": {},
   "outputs": [
    {
     "ename": "TypeError",
     "evalue": "initializer for ctype 'uint8_t[]' must be a bytes or list or tuple, not str",
     "output_type": "error",
     "traceback": [
      "\u001b[0;31m---------------------------------------------------------------------------\u001b[0m",
      "\u001b[0;31mTypeError\u001b[0m                                 Traceback (most recent call last)",
      "Input \u001b[0;32mIn [22]\u001b[0m, in \u001b[0;36m<cell line: 1>\u001b[0;34m()\u001b[0m\n\u001b[0;32m----> 1\u001b[0m \u001b[43mbrotli\u001b[49m\u001b[38;5;241;43m.\u001b[39;49m\u001b[43mcompress\u001b[49m\u001b[43m(\u001b[49m\u001b[43mpath\u001b[49m\u001b[38;5;241;43m+\u001b[39;49m\u001b[43mlibre_office_install_dir\u001b[49m\u001b[43m)\u001b[49m\n",
      "File \u001b[0;32m~/miniforge3/lib/python3.9/site-packages/brotli/brotli.py:147\u001b[0m, in \u001b[0;36mcompress\u001b[0;34m(data, mode, quality, lgwin, lgblock, dictionary)\u001b[0m\n\u001b[1;32m    135\u001b[0m \u001b[38;5;66;03m# This method uses private variables on the Compressor object, and\u001b[39;00m\n\u001b[1;32m    136\u001b[0m \u001b[38;5;66;03m# generally does a whole lot of stuff that's not supported by the public\u001b[39;00m\n\u001b[1;32m    137\u001b[0m \u001b[38;5;66;03m# API. The goal here is to minimise the number of allocations and copies\u001b[39;00m\n\u001b[1;32m    138\u001b[0m \u001b[38;5;66;03m# we have to do. Users should prefer this method over the Compressor if\u001b[39;00m\n\u001b[1;32m    139\u001b[0m \u001b[38;5;66;03m# they know they have single-shot data.\u001b[39;00m\n\u001b[1;32m    140\u001b[0m compressor \u001b[38;5;241m=\u001b[39m Compressor(\n\u001b[1;32m    141\u001b[0m     mode\u001b[38;5;241m=\u001b[39mmode,\n\u001b[1;32m    142\u001b[0m     quality\u001b[38;5;241m=\u001b[39mquality,\n\u001b[0;32m   (...)\u001b[0m\n\u001b[1;32m    145\u001b[0m     dictionary\u001b[38;5;241m=\u001b[39mdictionary\n\u001b[1;32m    146\u001b[0m )\n\u001b[0;32m--> 147\u001b[0m compressed_data \u001b[38;5;241m=\u001b[39m \u001b[43mcompressor\u001b[49m\u001b[38;5;241;43m.\u001b[39;49m\u001b[43m_compress\u001b[49m\u001b[43m(\u001b[49m\u001b[43mdata\u001b[49m\u001b[43m,\u001b[49m\u001b[43m \u001b[49m\u001b[43mlib\u001b[49m\u001b[38;5;241;43m.\u001b[39;49m\u001b[43mBROTLI_OPERATION_FINISH\u001b[49m\u001b[43m)\u001b[49m\n\u001b[1;32m    148\u001b[0m \u001b[38;5;28;01massert\u001b[39;00m lib\u001b[38;5;241m.\u001b[39mBrotliEncoderIsFinished(compressor\u001b[38;5;241m.\u001b[39m_encoder) \u001b[38;5;241m==\u001b[39m lib\u001b[38;5;241m.\u001b[39mBROTLI_TRUE\n\u001b[1;32m    149\u001b[0m \u001b[38;5;28;01massert\u001b[39;00m (\n\u001b[1;32m    150\u001b[0m     lib\u001b[38;5;241m.\u001b[39mBrotliEncoderHasMoreOutput(compressor\u001b[38;5;241m.\u001b[39m_encoder) \u001b[38;5;241m==\u001b[39m lib\u001b[38;5;241m.\u001b[39mBROTLI_FALSE\n\u001b[1;32m    151\u001b[0m )\n",
      "File \u001b[0;32m~/miniforge3/lib/python3.9/site-packages/brotli/brotli.py:299\u001b[0m, in \u001b[0;36mCompressor._compress\u001b[0;34m(self, data, operation)\u001b[0m\n\u001b[1;32m    297\u001b[0m ptr_to_output_buffer \u001b[38;5;241m=\u001b[39m ffi\u001b[38;5;241m.\u001b[39mnew(\u001b[38;5;124m\"\u001b[39m\u001b[38;5;124muint8_t **\u001b[39m\u001b[38;5;124m\"\u001b[39m, output_buffer)\n\u001b[1;32m    298\u001b[0m input_size \u001b[38;5;241m=\u001b[39m ffi\u001b[38;5;241m.\u001b[39mnew(\u001b[38;5;124m\"\u001b[39m\u001b[38;5;124msize_t *\u001b[39m\u001b[38;5;124m\"\u001b[39m, \u001b[38;5;28mlen\u001b[39m(data))\n\u001b[0;32m--> 299\u001b[0m input_buffer \u001b[38;5;241m=\u001b[39m \u001b[43mffi\u001b[49m\u001b[38;5;241;43m.\u001b[39;49m\u001b[43mnew\u001b[49m\u001b[43m(\u001b[49m\u001b[38;5;124;43m\"\u001b[39;49m\u001b[38;5;124;43muint8_t []\u001b[39;49m\u001b[38;5;124;43m\"\u001b[39;49m\u001b[43m,\u001b[49m\u001b[43m \u001b[49m\u001b[43mdata\u001b[49m\u001b[43m)\u001b[49m\n\u001b[1;32m    300\u001b[0m ptr_to_input_buffer \u001b[38;5;241m=\u001b[39m ffi\u001b[38;5;241m.\u001b[39mnew(\u001b[38;5;124m\"\u001b[39m\u001b[38;5;124muint8_t **\u001b[39m\u001b[38;5;124m\"\u001b[39m, input_buffer)\n\u001b[1;32m    302\u001b[0m rc \u001b[38;5;241m=\u001b[39m lib\u001b[38;5;241m.\u001b[39mBrotliEncoderCompressStream(\n\u001b[1;32m    303\u001b[0m     \u001b[38;5;28mself\u001b[39m\u001b[38;5;241m.\u001b[39m_encoder,\n\u001b[1;32m    304\u001b[0m     operation,\n\u001b[0;32m   (...)\u001b[0m\n\u001b[1;32m    309\u001b[0m     ffi\u001b[38;5;241m.\u001b[39mNULL\n\u001b[1;32m    310\u001b[0m )\n",
      "\u001b[0;31mTypeError\u001b[0m: initializer for ctype 'uint8_t[]' must be a bytes or list or tuple, not str"
     ]
    }
   ],
   "source": [
    "brotli.compress(path+libre_office_install_dir)"
   ]
  },
  {
   "cell_type": "code",
   "execution_count": null,
   "id": "3b38fa10",
   "metadata": {},
   "outputs": [],
   "source": []
  }
 ],
 "metadata": {
  "kernelspec": {
   "display_name": "Python 3 (ipykernel)",
   "language": "python",
   "name": "python3"
  },
  "language_info": {
   "codemirror_mode": {
    "name": "ipython",
    "version": 3
   },
   "file_extension": ".py",
   "mimetype": "text/x-python",
   "name": "python",
   "nbconvert_exporter": "python",
   "pygments_lexer": "ipython3",
   "version": "3.9.7"
  }
 },
 "nbformat": 4,
 "nbformat_minor": 5
}
