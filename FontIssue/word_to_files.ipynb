{
  "nbformat": 4,
  "nbformat_minor": 0,
  "metadata": {
    "colab": {
      "name": "word_to_files.ipynb",
      "provenance": []
    },
    "kernelspec": {
      "name": "python3",
      "display_name": "Python 3"
    },
    "language_info": {
      "name": "python"
    }
  },
  "cells": [
    {
      "cell_type": "code",
      "execution_count": 1,
      "metadata": {
        "colab": {
          "base_uri": "https://localhost:8080/"
        },
        "id": "K-uzFmrNSMkq",
        "outputId": "8d8e30f6-8921-4e15-b067-f498e3c0d43c"
      },
      "outputs": [
        {
          "output_type": "stream",
          "name": "stdout",
          "text": [
            "Collecting aspose-words\n",
            "  Downloading aspose_words-22.3.0-py3-none-manylinux1_x86_64.whl (60.3 MB)\n",
            "\u001b[K     |████████████████████████████████| 60.3 MB 1.2 MB/s \n",
            "\u001b[?25hInstalling collected packages: aspose-words\n",
            "Successfully installed aspose-words-22.3.0\n"
          ]
        }
      ],
      "source": [
        "!pip install aspose-words"
      ]
    },
    {
      "cell_type": "code",
      "source": [
        "ls"
      ],
      "metadata": {
        "colab": {
          "base_uri": "https://localhost:8080/"
        },
        "id": "84HpCpJ3SpPj",
        "outputId": "2cc213bd-2d83-4ade-acfb-bea3c7afefac"
      },
      "execution_count": 2,
      "outputs": [
        {
          "output_type": "stream",
          "name": "stdout",
          "text": [
            "\u001b[0m\u001b[01;34msample_data\u001b[0m/  test.pdf\n"
          ]
        }
      ]
    },
    {
      "cell_type": "code",
      "source": [
        "import aspose.words as aw\n",
        "\n",
        "# load Word document\n",
        "doc = aw.Document(\"test.docx\")\n",
        "\n",
        "# get page count\n",
        "pageCount = doc.page_count\n",
        "\n",
        "# loop through pages\n",
        "for page in range(0, pageCount):\n",
        "  \n",
        "    # save each page as a separate document\n",
        "    extractedPage = doc.extract_pages(page, 1)\n",
        "    extractedPage.save(f\"split_by_page_{page + 1}.docx\")"
      ],
      "metadata": {
        "id": "K2X-yP5qSS9n"
      },
      "execution_count": 4,
      "outputs": []
    },
    {
      "cell_type": "code",
      "source": [
        "import zipfile\n",
        "import re\n",
        "import xml.dom.minidom\n",
        "\n",
        "\n",
        "document = zipfile.ZipFile('split_by_page_2.docx')\n",
        "print(document.namelist())\n"
      ],
      "metadata": {
        "colab": {
          "base_uri": "https://localhost:8080/"
        },
        "id": "-M5nwaG2Ss6L",
        "outputId": "7885a831-00bb-4dee-fb73-f3259e982c1a"
      },
      "execution_count": 14,
      "outputs": [
        {
          "output_type": "stream",
          "name": "stdout",
          "text": [
            "['[Content_Types].xml', '_rels/.rels', 'word/document.xml', 'docProps/app.xml', 'docProps/core.xml', 'word/_rels/document.xml.rels', 'word/_rels/header1.xml.rels', 'word/_rels/header2.xml.rels', 'word/_rels/header3.xml.rels', 'word/fontTable.xml', 'word/footer1.xml', 'word/footer2.xml', 'word/footer3.xml', 'word/header1.xml', 'word/header2.xml', 'word/header3.xml', 'word/media/image1.png', 'word/media/image2.jpeg', 'word/media/image3.png', 'word/media/image4.jpeg', 'word/media/image5.png', 'word/numbering.xml', 'word/settings.xml', 'word/styles.xml', 'word/theme/theme1.xml', 'word/webSettings.xml']\n"
          ]
        }
      ]
    },
    {
      "cell_type": "code",
      "source": [
        "uglyXml = xml.dom.minidom.parseString(document.read('word/footer2.xml')).toprettyxml(indent='  ')\n",
        "\n",
        "text_re = re.compile('>\\n\\s+([^<>\\s].*?)\\n\\s+</', re.DOTALL)\n",
        "prettyXml = text_re.sub('>\\g<1></', uglyXml)\n",
        "prettyXml"
      ],
      "metadata": {
        "colab": {
          "base_uri": "https://localhost:8080/",
          "height": 589
        },
        "id": "TQENjokMTlp9",
        "outputId": "11381eca-3785-4358-c998-3236af93b014"
      },
      "execution_count": 18,
      "outputs": [
        {
          "output_type": "execute_result",
          "data": {
            "text/plain": [
              "'<?xml version=\"1.0\" ?>\\n<w:ftr mc:Ignorable=\"w14 w15 wp14\" xmlns:cx=\"http://schemas.microsoft.com/office/drawing/2014/chartex\" xmlns:cx1=\"http://schemas.microsoft.com/office/drawing/2015/9/8/chartex\" xmlns:cx2=\"http://schemas.microsoft.com/office/drawing/2015/10/21/chartex\" xmlns:cx3=\"http://schemas.microsoft.com/office/drawing/2016/5/9/chartex\" xmlns:cx4=\"http://schemas.microsoft.com/office/drawing/2016/5/10/chartex\" xmlns:cx5=\"http://schemas.microsoft.com/office/drawing/2016/5/11/chartex\" xmlns:m=\"http://schemas.openxmlformats.org/officeDocument/2006/math\" xmlns:mc=\"http://schemas.openxmlformats.org/markup-compatibility/2006\" xmlns:o=\"urn:schemas-microsoft-com:office:office\" xmlns:r=\"http://schemas.openxmlformats.org/officeDocument/2006/relationships\" xmlns:v=\"urn:schemas-microsoft-com:vml\" xmlns:w=\"http://schemas.openxmlformats.org/wordprocessingml/2006/main\" xmlns:w10=\"urn:schemas-microsoft-com:office:word\" xmlns:w14=\"http://schemas.microsoft.com/office/word/2010/wordml\" xmlns:w15=\"http://schemas.microsoft.com/office/word/2012/wordml\" xmlns:wne=\"http://schemas.microsoft.com/office/word/2006/wordml\" xmlns:wp=\"http://schemas.openxmlformats.org/drawingml/2006/wordprocessingDrawing\" xmlns:wp14=\"http://schemas.microsoft.com/office/word/2010/wordprocessingDrawing\" xmlns:wpc=\"http://schemas.microsoft.com/office/word/2010/wordprocessingCanvas\" xmlns:wpg=\"http://schemas.microsoft.com/office/word/2010/wordprocessingGroup\" xmlns:wpi=\"http://schemas.microsoft.com/office/word/2010/wordprocessingInk\" xmlns:wps=\"http://schemas.microsoft.com/office/word/2010/wordprocessingShape\">\\n  <w:p>\\n    <w:r>\\n      <w:rPr>\\n        <w:b/>\\n        <w:color w:val=\"FF0000\"/>\\n        <w:sz w:val=\"24\"/>\\n      </w:rPr>\\n      <w:t>Created with an evaluation copy of Aspose.Words. To discover the full versions of our APIs please visit: https://products.aspose.com/words/</w:t>\\n    </w:r>\\n  </w:p>\\n  <w:p w14:paraId=\"3B086864\" w14:textId=\"77777777\" w:rsidR=\"00376753\">\\n    <w:pPr>\\n      <w:spacing w:line=\"259\" w:lineRule=\"auto\"/>\\n      <w:ind w:firstLine=\"0\" w:left=\"0\" w:right=\"1\"/>\\n      <w:jc w:val=\"right\"/>\\n    </w:pPr>\\n    <w:r>\\n      <w:rPr>\\n        <w:color w:val=\"808080\"/>\\n        <w:sz w:val=\"16\"/>\\n      </w:rPr>\\n      <w:t xml:space=\"preserve\"> SPSCC Student Computing </w:t>\\n    </w:r>\\n    <w:r>\\n      <w:rPr>\\n        <w:color w:val=\"808080\"/>\\n        <w:sz w:val=\"16\"/>\\n      </w:rPr>\\n      <w:t>Center__Headers</w:t>\\n    </w:r>\\n    <w:r>\\n      <w:rPr>\\n        <w:color w:val=\"808080\"/>\\n        <w:sz w:val=\"16\"/>\\n      </w:rPr>\\n      <w:t xml:space=\"preserve\"> and Footers __</w:t>\\n    </w:r>\\n    <w:r>\\n      <w:fldChar w:fldCharType=\"begin\"/>\\n    </w:r>\\n    <w:r>\\n      <w:instrText xml:space=\"preserve\"> PAGE   \\\\* MERGEFORMAT </w:instrText>\\n    </w:r>\\n    <w:r>\\n      <w:fldChar w:fldCharType=\"separate\"/>\\n    </w:r>\\n    <w:r>\\n      <w:rPr>\\n        <w:color w:val=\"808080\"/>\\n        <w:sz w:val=\"16\"/>\\n      </w:rPr>\\n      <w:t>5</w:t>\\n    </w:r>\\n    <w:r>\\n      <w:rPr>\\n        <w:color w:val=\"808080\"/>\\n        <w:sz w:val=\"16\"/>\\n      </w:rPr>\\n      <w:fldChar w:fldCharType=\"end\"/>\\n    </w:r>\\n    <w:r>\\n      <w:rPr>\\n        <w:color w:val=\"808080\"/>\\n        <w:sz w:val=\"16\"/>\\n      </w:rPr>\\n      <w:t xml:space=\"preserve\"> </w:t>\\n    </w:r>\\n  </w:p>\\n  <w:p w14:paraId=\"4C998AC3\" w14:textId=\"77777777\" w:rsidR=\"00376753\">\\n    <w:pPr>\\n      <w:spacing w:line=\"259\" w:lineRule=\"auto\"/>\\n      <w:ind w:firstLine=\"0\" w:left=\"0\"/>\\n      <w:jc w:val=\"left\"/>\\n    </w:pPr>\\n    <w:r>\\n      <w:rPr>\\n        <w:sz w:val=\"16\"/>\\n      </w:rPr>\\n      <w:t xml:space=\"preserve\"> </w:t>\\n    </w:r>\\n  </w:p>\\n</w:ftr>\\n'"
            ],
            "application/vnd.google.colaboratory.intrinsic+json": {
              "type": "string"
            }
          },
          "metadata": {},
          "execution_count": 18
        }
      ]
    },
    {
      "cell_type": "code",
      "source": [
        ""
      ],
      "metadata": {
        "id": "ygoFlqxHT6N-"
      },
      "execution_count": null,
      "outputs": []
    }
  ]
}