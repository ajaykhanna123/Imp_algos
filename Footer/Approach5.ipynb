{
 "cells": [
  {
   "cell_type": "code",
   "execution_count": 30,
   "id": "128ae13e",
   "metadata": {},
   "outputs": [
    {
     "name": "stdout",
     "output_type": "stream",
     "text": [
      "F11 F1 mismatch\n",
      "F1 F1 match\n",
      "F2 F2 match\n",
      "F33 F3 mismatch\n",
      "F4 F4 match\n",
      "F1 F1 match\n"
     ]
    }
   ],
   "source": [
    "ods_footers=['F11','F1','F2','F33','F4','F1']\n",
    "template_footers=['F1','F1','F1','F2','F3','F3','F3','F4','F1']\n",
    "template_footers_unique=[]\n",
    "\n",
    "for footer_index in range(0,len(template_footers)-1):\n",
    "    if template_footers[footer_index]==template_footers[footer_index+1]:\n",
    "        continue\n",
    "    template_footers_unique.append(template_footers[footer_index])\n",
    "if footer_index<len(template_footers):\n",
    "    template_footers_unique.append(template_footers[footer_index+1])\n",
    "    \n",
    "ods_index=0\n",
    "template_footers_index=0\n",
    "mismatches=[]\n",
    "while ods_index<len(ods_footers) :\n",
    "    if ods_footers[ods_index]==template_footers_unique[template_footers_index]:\n",
    "        \n",
    "        print(ods_footers[ods_index],template_footers_unique[template_footers_index],\"match\")\n",
    "        template_footers_index+=1\n",
    "    else:\n",
    "        print(ods_footers[ods_index],template_footers_unique[template_footers_index],\"mismatch\")\n",
    "        if ods_footers[ods_index+1]!=template_footers_unique[template_footers_index]:\n",
    "            template_footers_index+=1  \n",
    "    ods_index+=1"
   ]
  },
  {
   "cell_type": "code",
   "execution_count": 26,
   "id": "6f218770",
   "metadata": {},
   "outputs": [],
   "source": [
    "template_footers_unique.remove()\n"
   ]
  },
  {
   "cell_type": "code",
   "execution_count": 27,
   "id": "192e5c4a",
   "metadata": {},
   "outputs": [
    {
     "data": {
      "text/plain": [
       "['F2', 'F3', 'F4', 'F1']"
      ]
     },
     "execution_count": 27,
     "metadata": {},
     "output_type": "execute_result"
    }
   ],
   "source": [
    "template_footers_unique"
   ]
  },
  {
   "cell_type": "code",
   "execution_count": 18,
   "id": "685b122b",
   "metadata": {},
   "outputs": [
    {
     "data": {
      "text/plain": [
       "(['F11', 'F1', 'F2', 'F33', 'F4', 'F1'], ['F1', 'F2', 'F1', 'F1'])"
      ]
     },
     "execution_count": 18,
     "metadata": {},
     "output_type": "execute_result"
    }
   ],
   "source": [
    "F11     F1    \n",
    "F1      F2\n",
    "F2      F3\n",
    "F33     F4\n",
    "F4      F1\n",
    "F1"
   ]
  },
  {
   "cell_type": "code",
   "execution_count": null,
   "id": "3715f085",
   "metadata": {},
   "outputs": [],
   "source": []
  }
 ],
 "metadata": {
  "kernelspec": {
   "display_name": "Python 3 (ipykernel)",
   "language": "python",
   "name": "python3"
  },
  "language_info": {
   "codemirror_mode": {
    "name": "ipython",
    "version": 3
   },
   "file_extension": ".py",
   "mimetype": "text/x-python",
   "name": "python",
   "nbconvert_exporter": "python",
   "pygments_lexer": "ipython3",
   "version": "3.9.10"
  }
 },
 "nbformat": 4,
 "nbformat_minor": 5
}
