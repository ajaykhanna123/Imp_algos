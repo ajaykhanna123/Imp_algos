{
 "cells": [
  {
   "cell_type": "code",
   "execution_count": 181,
   "id": "73c53f3f",
   "metadata": {},
   "outputs": [],
   "source": [
    "data=\"\"\"\n",
    "[F8] [F9] [F10]\n",
    "\n",
    "[F102]\n",
    "\n",
    "[F103] [F104] [F105] [F106]-[F107]\n",
    "\n",
    "Dear [FS] [F10]\n",
    "\n",
    "We're writing to tell you that your Part D late enrollment penalty has changed based on Medicare's reconsideration (review) of your circumstances. This was explained in the decision letter you got from Medicare's Appeals Contractor dated [F142].\n",
    "\n",
    "[(if F36=851 and F66> $0.00 and F135>$0.00 and F130≠C, populate) As a result of Medicare's reconsideration decision, your premium still includes a late enrollment penalty. Of Account≠8013OPT46S, populate Please contact your former employer's group/union for your premium information\n",
    "\n",
    "Since you owe a late enrollment penalty dating back to your effective date of enrollment, we'll charge you a lump sum amount of [F135]]\n",
    "[(if F36=851 and F66> $0.00 and F135>$0.00 and F130≠C, populate)]\n",
    "\n",
    "[(If F36=852 and F66>$0.00 and F135>$0.00 and F230≠C, populate) As a result of Medicare's reconsideration decision you still owe a penalty of E661 per month,\n",
    "\n",
    "effective [F131] [Of Account 80130PT165. populatelPlease contact your former]\n",
    "\n",
    "employer's group/union for your premium information Since you owe a late enrollment penalty dating back to your effective date of enrollment, we'll charge you a lump sum amount of [135]]\n",
    "\n",
    "[(If F36=851 or 852 and F66=0.00 and F130=C and F134 = $0.00 populate) As a\n",
    "\n",
    "result of Medicare's reconsideration decision], your premium still includes a late enrollment penalty Kif Accounte80130PT-165, potulate Please contact your former employer's group/union for your premium information\n",
    "\n",
    "Since you owe a late enrollment penalty dating back to your effective date of enrollment, we'll charge you a lump sum amount of [13511\n",
    "\n",
    "[Account 80130PT165, pupulatelyour former employer's group/union has agreed to pay [F134]], the amount of your late enrollment penalty, on your behalf. If your coverage is terminated by you or your former employer's group/union, or\n",
    "]\"\"\""
   ]
  },
  {
   "cell_type": "code",
   "execution_count": 198,
   "id": "e72199e8",
   "metadata": {},
   "outputs": [
    {
     "name": "stdout",
     "output_type": "stream",
     "text": [
      "Checking Bracket Count!!\n",
      "Brackets count seems to be ok!!\n",
      "Checking for logic part!!\n",
      "Oops ! 'i' in if  is not UpperCase for Logic -> if F36=851 and F66> $0.00 and F135>$0.00 and F130≠C, populate)\n",
      "Oops ! 'i' in if  is not UpperCase for Logic -> if F36=851 and F66> $0.00 and F135>$0.00 and F130≠C, populate)\n",
      "Oops! No space or comma with this part of expression ->If F36=851 or 852 and F66=0.00 and F130=C and F134 = $0.00 populate)\n",
      "2 'If' or 'populate' seems to be missing in some of populate expression\n",
      "replace dash with  [F106][(If F107≠BLANK, populate)-][F107]\n"
     ]
    }
   ],
   "source": [
    "import docx2txt\n",
    "import re\n",
    "\n",
    "# FILE_PATH=input(\"Enter template path(File should be of .docx format) ->   \")\n",
    "FILE_PATH='doc1.docx'\n",
    "try:\n",
    "#     file_data = docx2txt.process(FILE_PATH)\n",
    "    file_data=data\n",
    "except:\n",
    "    print(\"Oh No ! ..Error file name is missing in the path (\"+FILE_PATH+\") mentioned or error with file format\")\n",
    "    \n",
    "def error_index_conditions(error_index,test):\n",
    "    forward_index=20\n",
    "    ERROR_MESSAGE='Oops ! Bracket seems to have an issue between these characters -> '\n",
    "    if error_index+forward_index>len(test) and error_index-forward_index>0:\n",
    "        return ERROR_MESSAGE+test[error_index-forward_index:error_index]\n",
    "    elif error_index-forward_index<0 and error_index+forward_index<len(test):\n",
    "        return ERROR_MESSAGE+test[error_index:error_index+forward_index]\n",
    "    else:\n",
    "        return ERROR_MESSAGE+test[error_index-forward_index:error_index+forward_index]\n",
    "    \n",
    "def check_balanced_brackets(test):\n",
    "    print(\"Checking Bracket Count!!\")\n",
    "    stack=[]\n",
    "    open_list = [\"[\",\"(\"]\n",
    "    close_list = [\"]\",\")\"]\n",
    "    \n",
    "    pos=0\n",
    "    for i in range(0,len(test)):\n",
    "        \n",
    "        if test[i] in open_list:\n",
    "            stack.append([test[i],i])\n",
    "        elif test[i] in close_list:\n",
    "        \n",
    "            pos=close_list.index(test[i])\n",
    "\n",
    "            if ((len(stack) > 0) and (open_list[pos] == stack[len(stack)-1][0])):\n",
    "                stack.pop()\n",
    "            else:\n",
    "                \n",
    "                if len(stack)==0:\n",
    "                    error_index=i\n",
    "                else:\n",
    "                    error_index=stack[0][1]\n",
    "                return error_index_conditions(error_index,test)\n",
    "    \n",
    "    if len(stack) == 0:\n",
    "        return \"Brackets count seems to be ok!!\"\n",
    "    else:\n",
    "        error_index=stack[0][1]\n",
    "        return error_index_conditions(error_index,test)\n",
    "    \n",
    "#Ist rule to check if brackets count is same or if they are balanced or not\n",
    "data_remove_new_line=re.sub('\\n',\" \",file_data)\n",
    "try:\n",
    "    print(check_balanced_brackets(data_remove_new_line))\n",
    "except:\n",
    "    print(\"ERROR! checking count of brackets ! Please look in the template for BRACKETS\")\n",
    "\n",
    "print(\"Checking for logic part!!\")\n",
    "# 2nd RULE : Check logic part of template\n",
    "\n",
    "data_new_line_split=list(filter(None,data.split(\"\\n\")))\n",
    "\n",
    "#Assume 1: There is if and populate in all the data lines\n",
    "count_expression=0\n",
    "for data_item in data_new_line_split:\n",
    "    logic_parts=re.findall('\\[\\((if)(.*?)(populate\\))',data_item,re.IGNORECASE)\n",
    "    \n",
    "    for logic_part in logic_parts:\n",
    "        \n",
    "        count_expression+=1\n",
    "# checking logic part 0\n",
    "        if logic_part[0][0].islower():\n",
    "            print(\"Oops ! 'i' in if  is not UpperCase for Logic -> \"+\"\".join(logic_part))\n",
    "            \n",
    "# checking logic part 1\n",
    "        bracket_keys=re.search('\\[[A-Z]{1}[a-z]+[A-Z]{1}[a-z]+\\]|\\[F\\d+\\]',logic_part[1])\n",
    "\n",
    "        if bracket_keys:\n",
    "            print(\"Logic part has keys with brackets -> \"+logic_part[1])\n",
    "        if logic_part[1][0]!=' ':\n",
    "            print(\"Oops! No space between If and expression ->\"+\"\".join(logic_part))\n",
    "        if re.search('\\s{2,}',logic_part[1]):\n",
    "            print(\"Oops! More than 2  spaces between If and expression ->\"+\"\".join(logic_part))\n",
    "        if re.search('logic|of|AND|OR|IS NOT|is not|&|:',logic_part[1]):\n",
    "            print(\"Oops! Issue with this part of expression(It contains these Characters - logic|of|AND|OR|IS NOT|is not|&|:) ->\"+\"\".join(logic_part))\n",
    "        \n",
    "        if logic_part[1][-1]!=' ' or logic_part[1][-2]!=',':\n",
    "            print(\"Oops! No space or comma with this part of expression ->\"+\"\".join(logic_part))\n",
    "        if re.search(\",\",logic_part[1][1:-2]):\n",
    "            print(\"Oops! comma found with this part of expression ->\"+\"\".join(logic_part))\n",
    "    \n",
    "\n",
    "#Assume 2: There is no if in data lines\n",
    "\n",
    "count_populate=data_remove_new_line.count(\"populate)\")\n",
    "count_If=data_remove_new_line.count(\"(If\")\n",
    "if count_If!=count_populate:\n",
    "    missing_If_or_populate_count=abs(count_populate-count_If)\n",
    "    print(str(missing_If_or_populate_count)+\" 'If' or 'populate' seems to be missing in some of populate expression\")\n",
    "elif count_If!=count_expression:\n",
    "    print(\"There is a issue with the expressions in template Seems like 'If' doesn't start with [(\")\n",
    "\n",
    "#Assume 3: There is word logic in data lines\n",
    "\n",
    "for data_item in data_new_line_split:\n",
    "    logic_parts=re.findall('\\((logic)(.*?populate\\))',data_item,re.IGNORECASE)\n",
    "    if len(logic_parts)!=0:\n",
    "        print(\"Word 'logic' found in this part of expression ->\",\"\".join(logic_parts[0]))\n",
    "        \n",
    "\n",
    "# 3rd RULE : Right syntax for keys\n",
    "\n",
    "search_data_for_keys=re.sub('[if|logic].*?populate',\"\",data_remove_new_line,flags=re.IGNORECASE)\n",
    "keys_exp_without_brack=re.findall('[A-Z]{1}[a-z]+[A-Z]{1}[a-z]+|F\\d+',search_data_for_keys)\n",
    "# keys_exp_without_brack=[\"[\" + s +\"]\" for s in keys_exp_without_brack]\n",
    "keys_exp_with_brack=re.findall('\\[[A-Z]{1}[a-z]+[A-Z]{1}[a-z]+\\]|\\[F\\d+\\]',search_data_for_keys)\n",
    "keys_error_values=[i for i, j in zip(keys_exp_without_brack, keys_exp_with_brack)  if \"[\"+i+\"]\" != j ] \n",
    "if len(keys_error_values)!=0:\n",
    "    print(\"Issue with keys not in brackets ->\",keys_error_values)\n",
    "\n",
    "\n",
    "\n",
    "# 4th RULE : Address syntax\n",
    "\n",
    "for data_item in data_new_line_split:\n",
    "    address_part=re.findall('\\[[A-Z]+[a-z]+[A-Z]+\\w+\\]',data_item)\n",
    "    if len(address_part)==4 and not re.search('\\[[A-Z]+[a-z]+[A-Z]+\\w+\\], \\[[A-Z]+[a-z]+[A-Z]+\\w+\\], \\[[A-Z]+[a-z]+[A-Z]+\\w+\\] \\[[A-Z]+[a-z]+[A-Z]+\\w+\\]',data_item.strip()):\n",
    "        print(\"address format seems to be incorrect for string -> \"+data_item)\n",
    "        \n",
    "    \n",
    "# 5th RULE : dash check for keys\n",
    "\n",
    "for data_item in data_new_line_split:\n",
    "\n",
    "    dash_check=re.search('\\[F\\d+\\]-\\[F\\d+\\]',data_item)\n",
    "    if dash_check:\n",
    "        string_r=re.sub('\\[|\\]','',dash_check.group())\n",
    "        print(\"replace dash with \",'['+string_r.split('-')[0]+']'+'[(If '+string_r.split('-')[1]+'≠BLANK, populate)-]['+string_r.split('-')[1]+']')\n"
   ]
  },
  {
   "cell_type": "code",
   "execution_count": 194,
   "id": "4598e38c",
   "metadata": {},
   "outputs": [
    {
     "name": "stdout",
     "output_type": "stream",
     "text": [
      "\n",
      "[() As a res\n",
      "\n"
     ]
    }
   ],
   "source": [
    "string=\"\"\"\n",
    "[(If F36=852 and F66>$0.00 and F135>$0.00 and F230≠C, populate) As a res\n",
    "\"\"\"\n",
    "s=re.sub('if.*?populate',\"\",string,flags=re.IGNORECASE)\n",
    "print(s)"
   ]
  },
  {
   "cell_type": "code",
   "execution_count": 86,
   "id": "1e9ea897",
   "metadata": {},
   "outputs": [
    {
     "data": {
      "text/plain": [
       "'F36=852 and F66>$0.00 and F135>$0.00 and F230≠C'"
      ]
     },
     "execution_count": 86,
     "metadata": {},
     "output_type": "execute_result"
    }
   ],
   "source": [
    "logic_part[1][1:-2]"
   ]
  },
  {
   "cell_type": "code",
   "execution_count": 176,
   "id": "4b26f4d3",
   "metadata": {},
   "outputs": [
    {
     "data": {
      "text/plain": [
       "{2, 3}"
      ]
     },
     "execution_count": 176,
     "metadata": {},
     "output_type": "execute_result"
    }
   ],
   "source": [
    "a=[2,3,4]\n",
    "b=[4,5,1]\n",
    "set(a)-set(b)"
   ]
  },
  {
   "cell_type": "code",
   "execution_count": null,
   "id": "7dd0594b",
   "metadata": {},
   "outputs": [],
   "source": []
  }
 ],
 "metadata": {
  "kernelspec": {
   "display_name": "Python 3 (ipykernel)",
   "language": "python",
   "name": "python3"
  },
  "language_info": {
   "codemirror_mode": {
    "name": "ipython",
    "version": 3
   },
   "file_extension": ".py",
   "mimetype": "text/x-python",
   "name": "python",
   "nbconvert_exporter": "python",
   "pygments_lexer": "ipython3",
   "version": "3.9.7"
  }
 },
 "nbformat": 4,
 "nbformat_minor": 5
}
