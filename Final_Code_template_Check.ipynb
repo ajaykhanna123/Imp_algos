{
 "cells": [
  {
   "cell_type": "code",
   "execution_count": 256,
   "id": "95a4175f",
   "metadata": {},
   "outputs": [],
   "source": []
  },
  {
   "cell_type": "code",
   "execution_count": 3,
   "id": "e788045b",
   "metadata": {},
   "outputs": [],
   "source": [
    "# #doubts \n",
    "# 1.logic keyword is unclear\n",
    "# 2.keys are difficult to apply regular exp\n",
    "# 3."
   ]
  },
  {
   "cell_type": "code",
   "execution_count": 439,
   "id": "2ff89396",
   "metadata": {},
   "outputs": [
    {
     "name": "stdout",
     "output_type": "stream",
     "text": [
      "**********Checking Bracket Count!!**********\n",
      "Brackets count seems to be ok!!\n",
      "**********Checking for logic part!!**********\n",
      "**********Checking for Right syntax for keys !!**********\n",
      "**********Checking for Address syntax!!**********\n",
      "**********Checking for dash for keys!!**********\n",
      "**********Checking for Footer issue!!**********\n"
     ]
    }
   ],
   "source": [
    "\n",
    "import docx2txt\n",
    "import re\n",
    "from collections import Counter\n",
    "# FILE_PATH=input(\"Enter template path(File should be of .docx format) ->   \")\n",
    "FILE_PATH='doc1.docx'\n",
    "try:\n",
    "#     file_data = docx2txt.process(FILE_PATH)\n",
    "    file_data=data\n",
    "except:\n",
    "    print(\"Oh No ! ..Error file name is missing in the path (\"+FILE_PATH+\") mentioned or error with file format\")\n",
    "    \n",
    "def error_index_conditions(error_index,test):\n",
    "    forward_index=20\n",
    "    ERROR_MESSAGE='Oops ! Bracket seems to have an issue between these characters -> '\n",
    "    if error_index+forward_index>len(test) and error_index-forward_index>0:\n",
    "        return ERROR_MESSAGE+test[error_index-forward_index:error_index]\n",
    "    elif error_index-forward_index<0 and error_index+forward_index<len(test):\n",
    "        return ERROR_MESSAGE+test[error_index:error_index+forward_index]\n",
    "    else:\n",
    "        return ERROR_MESSAGE+test[error_index-forward_index:error_index+forward_index]\n",
    "def diff_list_keys(l1,l2):\n",
    "    for i in range(0,len(l1)):\n",
    "        for j in range(0,len(l2)):\n",
    "            if l1[i]==l2[j]:\n",
    "                l1[i]=None\n",
    "                l2[j]=None\n",
    "    \n",
    "    return list(filter(None,l2))\n",
    "def check_balanced_brackets(test):\n",
    "    print(10*\"*\"+\"Checking Bracket Count!!\"+10*\"*\")\n",
    "    stack=[]\n",
    "    open_list = [\"[\",\"(\"]\n",
    "    close_list = [\"]\",\")\"]\n",
    "    \n",
    "    pos=0\n",
    "    for i in range(0,len(test)):\n",
    "        \n",
    "        if test[i] in open_list:\n",
    "            stack.append([test[i],i])\n",
    "        elif test[i] in close_list:\n",
    "        \n",
    "            pos=close_list.index(test[i])\n",
    "\n",
    "            if ((len(stack) > 0) and (open_list[pos] == stack[len(stack)-1][0])):\n",
    "                stack.pop()\n",
    "            else:\n",
    "                \n",
    "                if len(stack)==0:\n",
    "                    error_index=i\n",
    "                else:\n",
    "                    error_index=stack[0][1]\n",
    "                return error_index_conditions(error_index,test)\n",
    "    \n",
    "    if len(stack) == 0:\n",
    "        return \"Brackets count seems to be ok!!\"\n",
    "    else:\n",
    "        error_index=stack[0][1]\n",
    "        return error_index_conditions(error_index,test)\n",
    "    \n",
    "#Ist rule to check if brackets count is same or if they are balanced or not\n",
    "data_remove_new_line=re.sub('\\n',\" \",file_data)\n",
    "try:\n",
    "    print(check_balanced_brackets(data_remove_new_line))\n",
    "except:\n",
    "    print(\"ERROR! checking count of brackets ! Please look in the template for BRACKETS\")\n",
    "\n",
    "print(10*\"*\"+\"Checking for logic part!!\"+10*\"*\")\n",
    "# 2nd RULE : Check logic part of template\n",
    "\n",
    "data_new_line_split=list(filter(None,file_data.split(\"\\n\")))\n",
    "\n",
    "#Assume 1: There is if and populate in all the data lines\n",
    "count_expression=0\n",
    "for data_item in data_new_line_split:\n",
    "    logic_parts=re.findall('\\[\\((logic: if)(.*?)(populate\\))',data_item,re.IGNORECASE)\n",
    "    \n",
    "    for logic_part in logic_parts:\n",
    "        \n",
    "        count_expression+=1\n",
    "# checking logic part 0\n",
    "\n",
    "        if logic_part[0][-2].islower():\n",
    "            print(\"Oops ! 'i' in if  is not UpperCase for Logic -> \"+\"\".join(logic_part))\n",
    "        if not re.search('Logic',logic_part[0]):\n",
    "            print(\"Oops ! 'L' in Logic  is not UpperCase for Logic -> \"+\"\".join(logic_part))\n",
    "            \n",
    "# checking logic part 1\n",
    "        if re.findall('if',logic_part[1],re.IGNORECASE):\n",
    "            print(\"More than 1 If found in expression ->\",logic_part)\n",
    "        if re.findall('f\\d+',logic_part[1]):\n",
    "            print(\"'F' is in lower case for expression ->\"+logic_part[1])\n",
    "        if re.findall('\\w+and|\\w+or|and\\w+|or\\w+',logic_part[1],re.IGNORECASE):\n",
    "            print(\"no space b/w digits and operators\",logic_part[1])\n",
    "        and_or_count=len(re.findall(' and | or ',logic_part[1],re.IGNORECASE))\n",
    "        values_variables=re.findall('[A-Za-z0-9_\\.$]+',logic_part[1],re.IGNORECASE)\n",
    "        for value in values_variables:\n",
    "            if re.search('and',value,re.IGNORECASE):\n",
    "                values_variables.remove(value)\n",
    "            if re.search('or',value,re.IGNORECASE):\n",
    "                values_variables.remove(value)\n",
    "        values_variables_count=len(values_variables)\n",
    "        operators_count=len(re.findall('[<>=≠]',logic_part[1],re.IGNORECASE))\n",
    "        if (values_variables_count/2)!=operators_count or operators_count-1!=and_or_count:\n",
    "            print(\"Expression seems to be invalid in string -> \",\"\".join(logic_part))\n",
    "            \n",
    "#         consecutive_words=re.findall('\\s+([A-Za-z]+)\\s+',logic_part[1])\n",
    "#         for remove_word in ['or','and']:\n",
    "#             try:\n",
    "#                 consecutive_words.remove(remove_word)\n",
    "#             except:\n",
    "#                 pass\n",
    "#         if len(consecutive_words)>=2 :\n",
    "#             print(\"Invalid expressions -> \",logic_part[1])\n",
    "#         if re.search(' or | and ',logic_part[1],re.IGNORECASE):\n",
    "#             exp_split_or_and=re.split(' or | and ',logic_part[1].strip())\n",
    "#             for exp in exp_split_or_and:\n",
    "        \n",
    "#                 if \" \" in exp or not re.search('[=><≠][A-Za-z0-9$]+',exp):\n",
    "#                     print(\"Invalid expression found for expression part -> \",exp)\n",
    "        \n",
    "        \n",
    "        bracket_keys=re.search('\\[[A-Z]{1}[a-z]+[A-Z]{1}[a-z]+\\]|\\[F\\d+\\]',logic_part[1])\n",
    "\n",
    "        if bracket_keys:\n",
    "            print(\"Logic part has keys with brackets -> \"+logic_part[1])\n",
    "        if logic_part[1][0]!=' ':\n",
    "            print(\"Oops! No space between If and expression ->\"+\"\".join(logic_part))\n",
    "        if re.search('\\s{2,}',logic_part[1]):\n",
    "            print(\"Oops! More than 2  spaces between If and expression ->\"+\"\".join(logic_part))\n",
    "        if re.search('logic|of|AND|OR|IS NOT|is not|&|:|\\[|\\]',logic_part[1]):\n",
    "            print(\"Oops! Issue with this part of expression(It contains these Characters - logic|of|AND|OR|IS NOT|is not|is|&|:|[|]) ->\"+\"\".join(logic_part))\n",
    "        \n",
    "        if logic_part[1][-1]!=' ' or logic_part[1][-2]!=',':\n",
    "            print(\"Oops! No space or comma with this part of expression ->\"+\"\".join(logic_part))\n",
    "        if re.search(\",\",logic_part[1][1:-2]):\n",
    "            print(\"Oops! comma found with this part of expression ->\"+\"\".join(logic_part))\n",
    "\n",
    "\n",
    "logic_part_else=re.findall('\\(else.*?\\)',data_remove_new_line,re.IGNORECASE)\n",
    "if len(logic_part_else)!=0:\n",
    "    print(\"else part in logic -> \",logic_part_else)\n",
    "    \n",
    "\n",
    "    \n",
    "\n",
    "#Assume 2: There is no if in data lines\n",
    "\n",
    "count_populate=data_remove_new_line.count(\"populate)\")\n",
    "count_If=data_remove_new_line.count(\"(Logic: If\")\n",
    "if count_If!=count_populate:\n",
    "    missing_If_or_populate_count=abs(count_populate-count_If)\n",
    "    print(str(missing_If_or_populate_count)+\" 'Logic: If' or 'populate' seems to be missing or syntax invalid in some of populate expression\")\n",
    "elif count_If!=count_expression:\n",
    "    print(\"There is a issue with the expressions in template Seems like 'If' doesn't start with [(\")\n",
    "\n",
    "\n",
    "#Assume 3: There is word logic in data lines\n",
    "\n",
    "# for data_item in data_new_line_split:\n",
    "#     logic_parts=re.findall('\\((logic)(.*?populate\\))',data_item,re.IGNORECASE)\n",
    "#     if len(logic_parts)!=0:\n",
    "#         print(\"Word 'logic' found in this part of expression ->\",\"\".join(logic_parts[0]))\n",
    "        \n",
    "#Assume 4: There is no if and populate\n",
    "\n",
    "no_if_and_populate=re.findall('\\[\\(F\\d+[=≠:><].*?\\)',data_remove_new_line,re.IGNORECASE)\n",
    "\n",
    "if len(no_if_and_populate)!=0:\n",
    "    print(\"No Logic: If and populate found for these logics ->\",no_if_and_populate)\n",
    "    \n",
    "# 3rd RULE : Right syntax for keys\n",
    "\n",
    "print(10*\"*\"+\"Checking for Right syntax for keys !!\"+10*\"*\")\n",
    "search_data_for_keys=re.sub('\\[\\(if.*?populate|\\[\\(logic.*?populate|\\[.*?return.*?\\]',\"\",data_remove_new_line,flags=re.IGNORECASE)\n",
    "\n",
    "# keys_exp_without_brack=re.findall('[A-Z]{1}[a-z]+[A-Z]{1}[a-z]+|F\\d+',search_data_for_keys)\n",
    "keys_exp_without_brack=re.findall('F\\d+',search_data_for_keys,re.IGNORECASE)\n",
    "\n",
    "keys_exp_without_brack=[\"[\" + s +\"]\" for s in keys_exp_without_brack]\n",
    "# keys_exp_with_brack=re.findall('\\[[A-Z]{1}[a-z]+[A-Z]{1}[a-z]+\\]|\\[F\\d+\\]',search_data_for_keys)\n",
    "keys_exp_with_brack=re.findall('\\[F\\d+\\]',search_data_for_keys,re.IGNORECASE)\n",
    "\n",
    "# keys_error_values=[i for i, j in zip(keys_exp_without_brack, keys_exp_with_brack)  if \"[\"+i+\"]\" != j ] \n",
    "\n",
    "keys_error_values=diff_list_keys(keys_exp_with_brack,keys_exp_without_brack)\n",
    "\n",
    "\n",
    "if len(keys_error_values)!=0:\n",
    "    print(\"Issue with keys not in brackets ->\",keys_error_values)\n",
    "\n",
    "keys=re.findall('\\[(.*?F\\d+)\\]', data_remove_new_line,re.IGNORECASE)\n",
    "invalid_keys_for_space=[]\n",
    "for key in keys:\n",
    "    if not re.search('populate|logic|if|\\)|\\(',key,re.IGNORECASE):\n",
    "        space_count=key.count(' ')\n",
    "        if space_count>0:\n",
    "            invalid_keys_for_space.append(key)\n",
    "invalid_keys_with_underscore=re.findall('\\[f\\d+_f\\d+\\]', data_remove_new_line,re.IGNORECASE)\n",
    "invalid_keys=invalid_keys_with_underscore+invalid_keys_for_space\n",
    "if len(invalid_keys)>0:\n",
    "    print(\"These Keys are invalid -> \",invalid_keys)\n",
    "\n",
    "all_f_keys=re.findall('(f\\d+)',search_data_for_keys,re.IGNORECASE)\n",
    "for key in all_f_keys:\n",
    "    if key[0].islower():\n",
    "        print(key+\" Has a lower case 'F'\")\n",
    "        \n",
    "        \n",
    "# 4th RULE : Address syntax\n",
    "print(10*\"*\"+\"Checking for Address syntax!!\"+10*\"*\")\n",
    "for data_item in data_new_line_split:\n",
    "    address_part=re.findall('\\[[A-Z]+[a-z]+[A-Z]+\\w+\\]',data_item)\n",
    "    if len(address_part)==4 and not re.search('\\[[A-Z]+[a-z]+[A-Z]+\\w+\\], \\[[A-Z]+[a-z]+[A-Z]+\\w+\\], \\[[A-Z]+[a-z]+[A-Z]+\\w+\\] \\[[A-Z]+[a-z]+[A-Z]+\\w+\\]',data_item.strip()):\n",
    "        print(\"address format seems to be incorrect for string -> \"+data_item)\n",
    "        \n",
    "    \n",
    "# 5th RULE : dash check for keys\n",
    "print(10*\"*\"+\"Checking for dash for keys!!\"+10*\"*\")\n",
    "for data_item in data_new_line_split:\n",
    "\n",
    "    dash_check=re.search('\\[F\\d+\\]-\\[F\\d+\\]',data_item)\n",
    "    \n",
    "    if dash_check:\n",
    "        string_r=re.sub('\\[|\\]','',dash_check.group())\n",
    "        print(\"replace dash with \",'['+string_r.split('-')[0]+']'+'[(If '+string_r.split('-')[1]+'≠BLANK, populate)-]['+string_r.split('-')[1]+']')\n",
    "        \n",
    "# 6th RULE : Footer issue \n",
    "print(10*\"*\"+\"Checking for Footer issue!!\"+10*\"*\")\n",
    "footer_with_prop=re.findall('proprietary',data_remove_new_line,re.IGNORECASE)\n",
    "if len(footer_with_prop)!=0:\n",
    "    print(\"Remove Proprietary from footer !\")\n",
    "    \n"
   ]
  },
  {
   "cell_type": "code",
   "execution_count": 438,
   "id": "1a8e340a",
   "metadata": {},
   "outputs": [],
   "source": [
    "data=\"\"\"\n",
    "[DATE']\n",
    "\"\"\"\n",
    "\n"
   ]
  },
  {
   "cell_type": "code",
   "execution_count": 361,
   "id": "fe90c499",
   "metadata": {},
   "outputs": [
    {
     "data": {
      "text/plain": [
       "True"
      ]
     },
     "execution_count": 361,
     "metadata": {},
     "output_type": "execute_result"
    }
   ],
   "source": [
    "8/4==3-1"
   ]
  },
  {
   "cell_type": "code",
   "execution_count": 284,
   "id": "a4183b8b",
   "metadata": {},
   "outputs": [
    {
     "name": "stdout",
     "output_type": "stream",
     "text": [
      "F23=S\n",
      "R\n",
      "Invalid expression found for expression part ->  F23=S or R or F135>0\n",
      "F135>0\n"
     ]
    },
    {
     "data": {
      "text/plain": [
       "['F23=S', 'R', 'F135>0']"
      ]
     },
     "execution_count": 284,
     "metadata": {},
     "output_type": "execute_result"
    }
   ],
   "source": [
    "string=\"F23=S or R or F135>0\"\n",
    "if re.search(' or | and ',string,re.IGNORECASE):\n",
    "    exp_split_or_and=re.split(' or | and ',string)\n",
    "    for exp in exp_split_or_and:\n",
    "        print(exp)\n",
    "        if \" \" in exp or not re.search('[=><≠][A-Za-z0-9$]+',exp):\n",
    "            print(\"Invalid expression found for expression part -> \",string)\n",
    "exp_split_or_and"
   ]
  },
  {
   "cell_type": "code",
   "execution_count": 218,
   "id": "c86ec7a9",
   "metadata": {},
   "outputs": [],
   "source": [
    "re.search('[=><≠][A-Za-z0-9]+','N')"
   ]
  },
  {
   "cell_type": "code",
   "execution_count": 188,
   "id": "8edeb503",
   "metadata": {},
   "outputs": [
    {
     "data": {
      "text/plain": [
       "[' carrer ']"
      ]
     },
     "execution_count": 188,
     "metadata": {},
     "output_type": "execute_result"
    }
   ],
   "source": [
    "re.findall('\\s+[A-Za-z]+\\s+',logic_part[1])"
   ]
  },
  {
   "cell_type": "code",
   "execution_count": 180,
   "id": "a15700d4",
   "metadata": {},
   "outputs": [
    {
     "data": {
      "text/plain": [
       "[' ', ' ', ' ', ' ']"
      ]
     },
     "execution_count": 180,
     "metadata": {},
     "output_type": "execute_result"
    }
   ],
   "source": [
    "re.findall('\\s+',logic_part[1])"
   ]
  },
  {
   "cell_type": "code",
   "execution_count": 303,
   "id": "cc5d077d",
   "metadata": {},
   "outputs": [
    {
     "data": {
      "text/plain": [
       "['[PlanName]']"
      ]
     },
     "execution_count": 303,
     "metadata": {},
     "output_type": "execute_result"
    }
   ],
   "source": [
    "l1=['[ClientName]', '[PlanName]']\n",
    "l2=['[PlanName]', '[ClientName]', '[PlanName]']\n"
   ]
  },
  {
   "cell_type": "code",
   "execution_count": 295,
   "id": "6691318b",
   "metadata": {},
   "outputs": [
    {
     "data": {
      "text/plain": [
       "[None, None]"
      ]
     },
     "execution_count": 295,
     "metadata": {},
     "output_type": "execute_result"
    }
   ],
   "source": [
    "l1\n"
   ]
  },
  {
   "cell_type": "code",
   "execution_count": null,
   "id": "d44222a8",
   "metadata": {},
   "outputs": [],
   "source": []
  },
  {
   "cell_type": "code",
   "execution_count": null,
   "id": "52bad64a",
   "metadata": {},
   "outputs": [],
   "source": []
  }
 ],
 "metadata": {
  "kernelspec": {
   "display_name": "Python 3 (ipykernel)",
   "language": "python",
   "name": "python3"
  },
  "language_info": {
   "codemirror_mode": {
    "name": "ipython",
    "version": 3
   },
   "file_extension": ".py",
   "mimetype": "text/x-python",
   "name": "python",
   "nbconvert_exporter": "python",
   "pygments_lexer": "ipython3",
   "version": "3.9.7"
  }
 },
 "nbformat": 4,
 "nbformat_minor": 5
}
