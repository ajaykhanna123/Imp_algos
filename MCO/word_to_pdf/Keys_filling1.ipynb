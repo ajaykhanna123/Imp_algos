{
 "cells": [
  {
   "cell_type": "code",
   "execution_count": 7,
   "id": "1b05b9be",
   "metadata": {},
   "outputs": [
    {
     "name": "stdout",
     "output_type": "stream",
     "text": [
      "9\n",
      "\n",
      "              \t\t\t\t\t\t\t\t\t\t[DATE]\n",
      "\n",
      "Dear [F1] [F2] ,\n",
      "\n",
      "This is an offer letter from EXL. Your CTC is 20 Cr.\n",
      "\n",
      "\n",
      "Regards\n",
      "[F3]\n"
     ]
    }
   ],
   "source": [
    "import docx\n",
    "from docx.shared import Pt\n",
    "doc = docx.Document(\"template.docx\")\n",
    "from docx import Document\n",
    "document=Document()\n",
    "extracted_text=\"\"\n",
    "all_paras = doc.paragraphs\n",
    "print(len(all_paras))\n",
    "\n",
    "for para in all_paras:\n",
    "    extracted_text=extracted_text+\"\\n\"+para.text\n",
    "\n",
    "print(extracted_text)\n",
    "document.add_paragraph(extracted_text)\n",
    "document.save(\"detdtdt_text_text.docx\")"
   ]
  },
  {
   "cell_type": "code",
   "execution_count": 6,
   "id": "9566c3f8",
   "metadata": {},
   "outputs": [],
   "source": [
    "document1=Document()\n",
    "extracted_text=extracted_text.replace(\"[F1]\",\"Ajay\")\n",
    "document1.add_paragraph(extracted_text)\n",
    "document1.save(\"detdtdt_text_text1.docx\")"
   ]
  },
  {
   "cell_type": "code",
   "execution_count": 8,
   "id": "6855c571",
   "metadata": {},
   "outputs": [
    {
     "data": {
      "text/plain": [
       "'\\n              \\t\\t\\t\\t\\t\\t\\t\\t\\t\\t[DATE]\\n\\nDear [F1] [F2] ,\\n\\nThis is an offer letter from EXL. Your CTC is 20 Cr.\\n\\n\\nRegards\\n[F3]'"
      ]
     },
     "execution_count": 8,
     "metadata": {},
     "output_type": "execute_result"
    }
   ],
   "source": [
    "extracted_text"
   ]
  },
  {
   "cell_type": "code",
   "execution_count": 16,
   "id": "2d7cce8d",
   "metadata": {},
   "outputs": [],
   "source": [
    "import re\n",
    "from datetime import datetime\n",
    "dict_members={}\n",
    "data_members=re.findall('\\[\\w+\\]',extracted_text)\n",
    "for data in data_members:\n",
    "    if re.search(\"date\",data,re.IGNORECASE):\n",
    "        dict_members[data]=datetime.today().strftime(\"%m/%d/%Y, %H:%M:%S\")\n",
    "    if re.search(\"f1\",data,re.IGNORECASE):\n",
    "        dict_members[data]=\"Ajay\"\n",
    "    if re.search(\"f2\",data,re.IGNORECASE):\n",
    "        dict_members[data]=\"Kumar\"\n",
    "    if re.search(\"f3\",data,re.IGNORECASE):\n",
    "        dict_members[data]=\"EXL HR\"\n",
    "for data in dict_members.keys():\n",
    "    extracted_text=extracted_text.replace(data,dict_members[data])"
   ]
  },
  {
   "cell_type": "code",
   "execution_count": 18,
   "id": "5ec8d866",
   "metadata": {},
   "outputs": [
    {
     "name": "stdout",
     "output_type": "stream",
     "text": [
      "\n",
      "              \t\t\t\t\t\t\t\t\t\t04/25/2022, 20:17:39\n",
      "\n",
      "Dear Ajay Kumar ,\n",
      "\n",
      "This is an offer letter from EXL. Your CTC is 20 Cr.\n",
      "\n",
      "\n",
      "Regards\n",
      "EXL HR\n"
     ]
    }
   ],
   "source": [
    "print(extracted_text)"
   ]
  },
  {
   "cell_type": "code",
   "execution_count": 19,
   "id": "c7c6b44f",
   "metadata": {},
   "outputs": [],
   "source": [
    "document1=Document()\n",
    "\n",
    "document1.add_paragraph(extracted_text)\n",
    "document1.save(\"template_with_values.docx\")"
   ]
  },
  {
   "cell_type": "code",
   "execution_count": null,
   "id": "e6c8c6a8",
   "metadata": {},
   "outputs": [],
   "source": []
  }
 ],
 "metadata": {
  "kernelspec": {
   "display_name": "Python 3 (ipykernel)",
   "language": "python",
   "name": "python3"
  },
  "language_info": {
   "codemirror_mode": {
    "name": "ipython",
    "version": 3
   },
   "file_extension": ".py",
   "mimetype": "text/x-python",
   "name": "python",
   "nbconvert_exporter": "python",
   "pygments_lexer": "ipython3",
   "version": "3.9.10"
  }
 },
 "nbformat": 4,
 "nbformat_minor": 5
}
