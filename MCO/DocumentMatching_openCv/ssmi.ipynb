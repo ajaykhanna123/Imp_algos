{
 "cells": [
  {
   "cell_type": "code",
   "execution_count": null,
   "id": "c5b54005",
   "metadata": {},
   "outputs": [],
   "source": [
    "pip install scikit-image "
   ]
  },
  {
   "cell_type": "code",
   "execution_count": 11,
   "id": "0113bbc3",
   "metadata": {},
   "outputs": [
    {
     "name": "stdout",
     "output_type": "stream",
     "text": [
      "SSIM: 0.9926062763095483\n"
     ]
    }
   ],
   "source": [
    "# Usage:\n",
    "#\n",
    "# python3 script.py --input original.png --output modified.png\n",
    "# Based on: https://github.com/mostafaGwely/Structural-Similarity-Index-SSIM-\n",
    "\n",
    "# 1. Import the necessary packages\n",
    "from skimage import measure\n",
    "from skimage.metrics import structural_similarity as ssim\n",
    "# from skimage.measure import structural_similarity as ssim\n",
    "import argparse\n",
    "import imutils\n",
    "import cv2\n",
    "\n",
    "# 2. Construct the argument parse and parse the arguments\n",
    "# ap = argparse.ArgumentParser()\n",
    "# ap.add_argument(\"-f\", \"--first\", required=True, help=\"Directory of the image that will be compared\")\n",
    "# ap.add_argument(\"-s\", \"--second\", required=True, help=\"Directory of the image that will be used to compare\")\n",
    "# args = vars(ap.parse_args())\n",
    "\n",
    "# 3. Load the two input images\n",
    "imageA = cv2.imread(\"cv1_page0.png\")\n",
    "imageB = cv2.imread(\"cv1__changed_page0.png\")\n",
    "\n",
    "# 4. Convert the images to grayscale\n",
    "grayA = cv2.cvtColor(imageA, cv2.COLOR_BGR2GRAY)\n",
    "grayB = cv2.cvtColor(imageB, cv2.COLOR_BGR2GRAY)\n",
    "\n",
    "# 5. Compute the Structural Similarity Index (SSIM) between the two\n",
    "#    images, ensuring that the difference image is returned\n",
    "(score, diff) = ssim(grayA, grayB, full=True)\n",
    "diff = (diff * 255).astype(\"uint8\")\n",
    "\n",
    "# 6. You can print only the score if you want\n",
    "print(\"SSIM: {}\".format(score))"
   ]
  },
  {
   "cell_type": "code",
   "execution_count": null,
   "id": "5c809550",
   "metadata": {},
   "outputs": [],
   "source": []
  }
 ],
 "metadata": {
  "kernelspec": {
   "display_name": "Python 3 (ipykernel)",
   "language": "python",
   "name": "python3"
  },
  "language_info": {
   "codemirror_mode": {
    "name": "ipython",
    "version": 3
   },
   "file_extension": ".py",
   "mimetype": "text/x-python",
   "name": "python",
   "nbconvert_exporter": "python",
   "pygments_lexer": "ipython3",
   "version": "3.9.10"
  }
 },
 "nbformat": 4,
 "nbformat_minor": 5
}
