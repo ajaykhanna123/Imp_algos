{
 "cells": [
  {
   "cell_type": "code",
   "execution_count": 2,
   "id": "0efa1528",
   "metadata": {},
   "outputs": [],
   "source": [
    "#import the required libraries including OpenCV\n",
    "import cv2\n",
    "#image processing utility functions\n",
    "#install by running - pip install imutils\n",
    "import imutils\n",
    "import fitz"
   ]
  },
  {
   "cell_type": "code",
   "execution_count": 3,
   "id": "ed85fe8e",
   "metadata": {},
   "outputs": [],
   "source": [
    "zoom = 4   # zoom factor\n",
    "mat = fitz.Matrix(zoom, zoom)"
   ]
  },
  {
   "cell_type": "code",
   "execution_count": 5,
   "id": "21c24bb9",
   "metadata": {},
   "outputs": [],
   "source": [
    "import fitz\n",
    "\n",
    "pdffile = \"cv1.pdf\"\n",
    "doc = fitz.open(pdffile)\n",
    "\n",
    "for i in range(0,doc.page_count):\n",
    "    page = doc.load_page(i)  # number of page\n",
    "    pix = page.get_pixmap(matrix=fitz.Matrix(150/72,150/72))\n",
    "    output = \"cv1_page\"+str(i)+\".png\"\n",
    "    pix.save(output)"
   ]
  },
  {
   "cell_type": "code",
   "execution_count": 6,
   "id": "6f21a902",
   "metadata": {},
   "outputs": [],
   "source": [
    "import fitz\n",
    "i=0\n",
    "pdffile = \"cv1_changed.pdf\"\n",
    "doc = fitz.open(pdffile)\n",
    "page = doc.load_page(i)  # number of page\n",
    "pix = page.get_pixmap(matrix=fitz.Matrix(150/72,150/72))\n",
    "output = \"cv1__changed_page\"+str(i)+\".png\"\n",
    "pix.save(output)"
   ]
  },
  {
   "cell_type": "code",
   "execution_count": 7,
   "id": "4cb8c598",
   "metadata": {},
   "outputs": [],
   "source": [
    "#Grab the images you want to compare.\n",
    "original = cv2.imread(\"cv1_page0.png\")\n",
    "new = cv2.imread(\"cv1__changed_page0.png\")\n",
    "#resize the images to make them smaller. Bigger image may take a significantly\n",
    "#more computing power and time\n",
    "# original = imutils.resize(original, height = 600)\n",
    "# new = imutils.resize(new, height = 600)"
   ]
  },
  {
   "cell_type": "code",
   "execution_count": 8,
   "id": "3877cf37",
   "metadata": {},
   "outputs": [
    {
     "data": {
      "text/plain": [
       "array([[[0, 0, 0],\n",
       "        [0, 0, 0],\n",
       "        [0, 0, 0],\n",
       "        ...,\n",
       "        [0, 0, 0],\n",
       "        [0, 0, 0],\n",
       "        [0, 0, 0]],\n",
       "\n",
       "       [[0, 0, 0],\n",
       "        [0, 0, 0],\n",
       "        [0, 0, 0],\n",
       "        ...,\n",
       "        [0, 0, 0],\n",
       "        [0, 0, 0],\n",
       "        [0, 0, 0]],\n",
       "\n",
       "       [[0, 0, 0],\n",
       "        [0, 0, 0],\n",
       "        [0, 0, 0],\n",
       "        ...,\n",
       "        [0, 0, 0],\n",
       "        [0, 0, 0],\n",
       "        [0, 0, 0]],\n",
       "\n",
       "       ...,\n",
       "\n",
       "       [[0, 0, 0],\n",
       "        [0, 0, 0],\n",
       "        [0, 0, 0],\n",
       "        ...,\n",
       "        [0, 0, 0],\n",
       "        [0, 0, 0],\n",
       "        [0, 0, 0]],\n",
       "\n",
       "       [[0, 0, 0],\n",
       "        [0, 0, 0],\n",
       "        [0, 0, 0],\n",
       "        ...,\n",
       "        [0, 0, 0],\n",
       "        [0, 0, 0],\n",
       "        [0, 0, 0]],\n",
       "\n",
       "       [[0, 0, 0],\n",
       "        [0, 0, 0],\n",
       "        [0, 0, 0],\n",
       "        ...,\n",
       "        [0, 0, 0],\n",
       "        [0, 0, 0],\n",
       "        [0, 0, 0]]], dtype=uint8)"
      ]
     },
     "execution_count": 8,
     "metadata": {},
     "output_type": "execute_result"
    }
   ],
   "source": [
    "#make a copy of original image so that we can store the\n",
    "#difference of 2 images in the same\n",
    "diff = original.copy()\n",
    "cv2.absdiff(original, new, diff)"
   ]
  },
  {
   "cell_type": "code",
   "execution_count": 9,
   "id": "a0a2f144",
   "metadata": {},
   "outputs": [],
   "source": [
    "#converting the difference into grascale\n",
    "gray = cv2.cvtColor(diff, cv2.COLOR_BGR2GRAY)\n",
    " \n",
    "#increasing the size of differences so we can capture them all\n",
    "for i in range(0, 3):\n",
    "    dilated = cv2.dilate(gray.copy(), None, iterations= i+ 1)"
   ]
  },
  {
   "cell_type": "code",
   "execution_count": 10,
   "id": "580ce1e7",
   "metadata": {},
   "outputs": [],
   "source": [
    "#threshold the gray image to binarise it. Anything pixel that has\n",
    "#value more than 3 we are converting to white\n",
    "#(remember 0 is black and 255 is absolute white)\n",
    "#the image is called binarised as any value less than 3 will be 0 and\n",
    "# all values equal to and more than 3 will be 255\n",
    "(T, thresh) = cv2.threshold(dilated, 3, 255, cv2.THRESH_BINARY)\n",
    " \n",
    "# now we need to find contours in the binarised image\n",
    "cnts = cv2.findContours(thresh, cv2.RETR_LIST, cv2.CHAIN_APPROX_SIMPLE)\n",
    "cnts = imutils.grab_contours(cnts)"
   ]
  },
  {
   "cell_type": "code",
   "execution_count": 11,
   "id": "c955b5be",
   "metadata": {},
   "outputs": [
    {
     "data": {
      "text/plain": [
       "True"
      ]
     },
     "execution_count": 11,
     "metadata": {},
     "output_type": "execute_result"
    }
   ],
   "source": [
    "for c in cnts:\n",
    "    # fit a bounding box to the contour\n",
    "    (x, y, w, h) = cv2.boundingRect(c)\n",
    "    cv2.rectangle(new, (x, y), (x + w, y + h), (0, 255, 0), 2)\n",
    " \n",
    "# uncomment below 2 lines if you want to\n",
    "#view the image press any key to continue\n",
    "#write the identified changes to disk\n",
    "cv2.imwrite(\"changes.png\", new)"
   ]
  },
  {
   "cell_type": "code",
   "execution_count": null,
   "id": "cf33ac81",
   "metadata": {},
   "outputs": [],
   "source": []
  }
 ],
 "metadata": {
  "kernelspec": {
   "display_name": "Python 3 (ipykernel)",
   "language": "python",
   "name": "python3"
  },
  "language_info": {
   "codemirror_mode": {
    "name": "ipython",
    "version": 3
   },
   "file_extension": ".py",
   "mimetype": "text/x-python",
   "name": "python",
   "nbconvert_exporter": "python",
   "pygments_lexer": "ipython3",
   "version": "3.9.10"
  }
 },
 "nbformat": 4,
 "nbformat_minor": 5
}
