{
 "cells": [
  {
   "cell_type": "code",
   "execution_count": 29,
   "id": "2b3a1db2",
   "metadata": {},
   "outputs": [
    {
     "name": "stderr",
     "output_type": "stream",
     "text": [
      "CUDA not available - defaulting to CPU. Note: This module is much faster with a GPU.\n"
     ]
    },
    {
     "name": "stdout",
     "output_type": "stream",
     "text": [
      "['as below. You will be joining as a software', 'engineer in our', 'company:', 'Regards', 'team']\n"
     ]
    }
   ],
   "source": [
    "import cv2\n",
    "import imutils\n",
    "import fitz\n",
    "import pytesseract\n",
    "import easyocr\n",
    "# pytesseract.pytesseract.tesseract_cmd = \"C:\\\\Program Files\\\\Tesseract-OCR\\\\tesseract.exe\"\n",
    "\n",
    "def image_generation(pdffile_name):\n",
    "    pdf_data = fitz.open(pdffile_name)\n",
    "    for i in range(0,pdf_data.page_count):\n",
    "        page = pdf_data.load_page(i)  # number of page\n",
    "        pix = page.get_pixmap(matrix=fitz.Matrix(150/72,150/72))\n",
    "        output = f\"{pdffile_name}_{i}.png\"\n",
    "        pix.save(output)\n",
    "\n",
    "\n",
    "def compare_images(actual_data,virtual_data):\n",
    "    list_of_allmismatches=[]\n",
    "    pdf_data = fitz.open(actual_data)\n",
    "    reader = easyocr.Reader(['en'],gpu=True)\n",
    "    for i in range(0,pdf_data.page_count):\n",
    "        original = cv2.imread(f\"{actual_data}_{i}.png\")\n",
    "        new = cv2.imread(f\"{virtual_data}_{i}.png\")\n",
    "        diff = original.copy()\n",
    "        cv2.absdiff(original, new, diff)\n",
    "        gray = cv2.cvtColor(diff, cv2.COLOR_BGR2GRAY)\n",
    "        #increasing the size of differences so we can capture them all\n",
    "        for j in range(0, 3):\n",
    "            dilated = cv2.dilate(gray.copy(), None, iterations= j+ 1)\n",
    "        (T, thresh) = cv2.threshold(dilated, 3, 255, cv2.THRESH_BINARY)\n",
    "    # now we need to find contours in the binarised image\n",
    "        cnts = cv2.findContours(thresh, cv2.RETR_LIST, cv2.CHAIN_APPROX_SIMPLE)\n",
    "        cnts = imutils.grab_contours(cnts)\n",
    "        cnts=cnts[::-1]\n",
    "        \n",
    "        for c in cnts:\n",
    "            # fit a bounding box to the contour\n",
    "            (x, y, w, h) = cv2.boundingRect(c)\n",
    "            cv2.rectangle(new, (x, y), (x + w, y + h), (0, 255, 0), 2)\n",
    "            cropped = new[y:y + h, x:x + w]\n",
    "#             text = pytesseract.image_to_string(cropped)\n",
    "            \n",
    "            text = reader.readtext(cropped,paragraph=\"False\")\n",
    "            if len(text)>0:\n",
    "#             print(text,type(text))\n",
    "                list_of_allmismatches.append(text[0][1])\n",
    "        cv2.imwrite(f\"updated_changes_{i}.png\", new)\n",
    "    \n",
    "    return list_of_allmismatches\n",
    "\n",
    "\n",
    "def getLogos(pdffile_name):\n",
    "    # open the file\n",
    "    pdf_file = fitz.open(pdffile_name)\n",
    "    i=1\n",
    "    number_of_logo=0\n",
    "    for page_index in range(len(pdf_file)): \n",
    "        # get the page itself\n",
    "        page = pdf_file[page_index]\n",
    "        for image_index, img in enumerate(page.getImageList(), start=1):\n",
    "            xref = img[0]\n",
    "            #Drawing the image\n",
    "            pix = fitz.Pixmap(pdf_file, xref)\n",
    "            if pix.n < 5:       # this is GRAY or RGB\n",
    "                pix.writePNG(f\"{pdffile_name}_logo_{i}.png\")\n",
    "            else:               # CMYK: convert to RGB first\n",
    "                pix1 = fitz.Pixmap(fitz.csRGB, pix)\n",
    "                pix1.writePNG(f\"{pdffile_name}_logo_{i}.png\")\n",
    "                pix1 = None\n",
    "            pix=None\n",
    "            i+=1\n",
    "            number_of_logo+=1\n",
    "    return number_of_logo\n",
    "            \n",
    "            \n",
    "\n",
    "\n",
    "image_generation(\"test1.pdf\")\n",
    "\n",
    "image_generation(\"test2.pdf\")\n",
    "\n",
    "final_mismatch=compare_images(\"test1.pdf\",\"test2.pdf\")\n",
    "print(final_mismatch)\n",
    "\n",
    "# number_of_logo=getLogos(\"cv1.pdf\")\n",
    "\n",
    "# print(number_of_logo)"
   ]
  },
  {
   "cell_type": "code",
   "execution_count": 20,
   "id": "c2b58487",
   "metadata": {},
   "outputs": [],
   "source": [
    "data=[[[[[0, 0], [432, 0], [432, 29], [0, 29]], 'as below. You will be joining as a software']], [], [[[[0, 2], [160, 2], [160, 28], [0, 28]], 'engineer in our']], [[[[0, 0], [102, 0], [102, 22], [0, 22]], 'company:']], [[[[0, 0], [88, 0], [88, 28], [0, 28]], 'Regards']], [[[[0, 0], [58, 0], [58, 22], [0, 22]], 'team']]]"
   ]
  },
  {
   "cell_type": "code",
   "execution_count": 26,
   "id": "2e5d0c03",
   "metadata": {},
   "outputs": [
    {
     "data": {
      "text/plain": [
       "[[[0, 0], [432, 0], [432, 29], [0, 29]],\n",
       " 'as below. You will be joining as a software']"
      ]
     },
     "execution_count": 26,
     "metadata": {},
     "output_type": "execute_result"
    }
   ],
   "source": [
    "data[0][0]"
   ]
  },
  {
   "cell_type": "code",
   "execution_count": null,
   "id": "a49e81b1",
   "metadata": {},
   "outputs": [],
   "source": []
  }
 ],
 "metadata": {
  "kernelspec": {
   "display_name": "Python 3 (ipykernel)",
   "language": "python",
   "name": "python3"
  },
  "language_info": {
   "codemirror_mode": {
    "name": "ipython",
    "version": 3
   },
   "file_extension": ".py",
   "mimetype": "text/x-python",
   "name": "python",
   "nbconvert_exporter": "python",
   "pygments_lexer": "ipython3",
   "version": "3.9.10"
  }
 },
 "nbformat": 4,
 "nbformat_minor": 5
}
